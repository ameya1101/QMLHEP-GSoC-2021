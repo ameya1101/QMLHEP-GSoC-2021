{
  "nbformat": 4,
  "nbformat_minor": 0,
  "metadata": {
    "colab": {
      "name": "QMLHEP - Task 4.ipynb",
      "provenance": [],
      "collapsed_sections": []
    },
    "kernelspec": {
      "name": "python3",
      "display_name": "Python 3"
    },
    "language_info": {
      "name": "python"
    },
    "accelerator": "GPU"
  },
  "cells": [
    {
      "cell_type": "markdown",
      "metadata": {
        "id": "VXRxvZRZF-gX"
      },
      "source": [
        "### **Task IV: Classical Graph Neural Network (GNN) Part**\n",
        "\n",
        "For Task IV, you will use ParticleNet’s data for Quark/Gluon jet classification available [here](https://zenodo.org/record/3164691#.Xk1VwS2B1QI) with its corresponding description.\n",
        "\n",
        "* Choose 2 Graph-based architectures of your choice to classify jets as being quarks or gluons. Provide a description on what considerations you have taken to projectthis point-cloud dataset to a set of interconnected nodes and edges.\n",
        "\n",
        "* Discuss the resulting performance of the 2 chosen architectures.\n",
        "\n",
        "\n",
        "I'm not very familiar with how Graph Neural Nets work, so I've relied heavily on the tutorials provided by the DGL package and a few GitHub implementations of GNNs\n"
      ]
    },
    {
      "cell_type": "code",
      "metadata": {
        "id": "YzG2pjZYXfH_"
      },
      "source": [
        "!pip install dgl-cu101\n",
        "\n",
        "import numpy as np\n",
        "import scipy.sparse as sp\n",
        "import tensorflow as tf\n",
        "import dgl\n",
        "import torch\n",
        "import networkx as nx\n",
        "\n",
        "from dgl.nn import GraphConv"
      ],
      "execution_count": null,
      "outputs": []
    },
    {
      "cell_type": "code",
      "metadata": {
        "id": "RdgApN5-Hwy3",
        "colab": {
          "base_uri": "https://localhost:8080/"
        },
        "outputId": "8ff7aa11-eae1-4ca5-aae0-f67e91154b91"
      },
      "source": [
        "!wget https://zenodo.org/record/3164691/files/QG_jets.npz?download=1 -O QG_jets.npz"
      ],
      "execution_count": 2,
      "outputs": [
        {
          "output_type": "stream",
          "text": [
            "--2021-03-23 01:28:43--  https://zenodo.org/record/3164691/files/QG_jets.npz?download=1\n",
            "Resolving zenodo.org (zenodo.org)... 137.138.76.77\n",
            "Connecting to zenodo.org (zenodo.org)|137.138.76.77|:443... connected.\n",
            "HTTP request sent, awaiting response... 200 OK\n",
            "Length: 106689379 (102M) [application/octet-stream]\n",
            "Saving to: ‘QG_jets.npz’\n",
            "\n",
            "QG_jets.npz         100%[===================>] 101.75M  27.7MB/s    in 4.4s    \n",
            "\n",
            "2021-03-23 01:28:49 (23.2 MB/s) - ‘QG_jets.npz’ saved [106689379/106689379]\n",
            "\n"
          ],
          "name": "stdout"
        }
      ]
    },
    {
      "cell_type": "code",
      "metadata": {
        "id": "VOKVbm0aHzNN"
      },
      "source": [
        "dataset = np.load('./QG_jets.npz')"
      ],
      "execution_count": 3,
      "outputs": []
    },
    {
      "cell_type": "code",
      "metadata": {
        "id": "lNM20_xvH4Fb"
      },
      "source": [
        "(x_data, y_data) = dataset['X'], dataset['y']\n",
        "\n",
        "# Since x_data is a 3 dimensional point, the features need to be extracted\n",
        "\n",
        "x_data = [x[0] for x in x_data]\n",
        "x_data = np.array(x_data)"
      ],
      "execution_count": 4,
      "outputs": []
    },
    {
      "cell_type": "code",
      "metadata": {
        "id": "FDz9BmJwIDIT"
      },
      "source": [
        "test_fraction = 0.25\n",
        "size = len(y_data)\n",
        "split = (int)(test_fraction * size)\n",
        "\n",
        "(x_train, x_test) = (x_data[split:], x_data[0:split])\n",
        "(y_train, y_test) = (y_data[split:], y_data[0:split])"
      ],
      "execution_count": 5,
      "outputs": []
    },
    {
      "cell_type": "markdown",
      "metadata": {
        "id": "S52pPaoqm2iS"
      },
      "source": [
        "### **Graph Implementation**\n",
        "\n",
        "From what I was able to gather, two architectures are commonly used: Node classification and Graph classification. The former projects the data into nodes and the model is trained to classify these nodes, while the latter involves representing an entire instance as a graph, and the network is trained to classify these graphs. \n",
        "\n",
        "I'll first implement the Node classification architecture and then the Graph classification one. \n",
        "\n",
        "I have referred extensively to the tutorials provided with the DGL module as GNNs were a completely new concept to me."
      ]
    },
    {
      "cell_type": "markdown",
      "metadata": {
        "id": "B-w5UHA3tqS2"
      },
      "source": [
        "#### **Node Classification**"
      ]
    },
    {
      "cell_type": "code",
      "metadata": {
        "id": "-NwNtz3OnhXr"
      },
      "source": [
        "x_train_red = x_train[:3000].astype(np.float32)\n",
        "y_train_red = y_train[:3000]\n",
        "\n",
        "class NodeGraphDataset(dgl.data.DGLDataset):\n",
        "  def __init__(self):\n",
        "    super().__init__(name='Node Architecture')\n",
        "    self.num_classes = 2\n",
        "\n",
        "  def process(self):\n",
        "    self.graph = dgl.from_networkx(nx.generators.fast_gnp_random_graph(x_train_red.shape[0], 0.042, seed=42))\n",
        "    self.graph.ndata['features'] = torch.from_numpy(x_train_red)\n",
        "    self.graph.ndata['labels'] =  torch.from_numpy(y_train_red).long()\n",
        "\n",
        "    n_nodes = x_train_red.shape[0]\n",
        "    n_train = int(n_nodes * 0.75)\n",
        "    n_val = int(n_nodes * 0.1)\n",
        "    train_mask = torch.zeros(n_nodes, dtype=torch.bool)\n",
        "    val_mask = torch.zeros(n_nodes, dtype=torch.bool)\n",
        "    test_mask = torch.zeros(n_nodes, dtype=torch.bool)\n",
        "\n",
        "    train_mask[:n_train] = True\n",
        "    val_mask[n_train : n_train + n_val] = True\n",
        "    test_mask[n_train + n_val:] = True\n",
        "    \n",
        "    self.graph.ndata['train_mask'] = train_mask\n",
        "    self.graph.ndata['val_mask'] = val_mask\n",
        "    self.graph.ndata['test_mask'] = test_mask\n",
        "\n",
        "  def __getitem__(self, idx):\n",
        "    return self.graph\n",
        "  \n",
        "  def __len__(self):\n",
        "    return 0\n",
        "  \n"
      ],
      "execution_count": 6,
      "outputs": []
    },
    {
      "cell_type": "code",
      "metadata": {
        "colab": {
          "base_uri": "https://localhost:8080/"
        },
        "id": "8GCV6dMvpYNE",
        "outputId": "daba2416-6dac-4866-9d24-8360814e3634"
      },
      "source": [
        "node_classification_data = NodeGraphDataset()\n",
        "node_classification_graph = node_classification_data[0]\n",
        "\n",
        "print(node_classification_graph)"
      ],
      "execution_count": 7,
      "outputs": [
        {
          "output_type": "stream",
          "text": [
            "Graph(num_nodes=3000, num_edges=377162,\n",
            "      ndata_schemes={'features': Scheme(shape=(4,), dtype=torch.float32), 'labels': Scheme(shape=(), dtype=torch.int64), 'train_mask': Scheme(shape=(), dtype=torch.bool), 'val_mask': Scheme(shape=(), dtype=torch.bool), 'test_mask': Scheme(shape=(), dtype=torch.bool)}\n",
            "      edata_schemes={})\n"
          ],
          "name": "stdout"
        }
      ]
    },
    {
      "cell_type": "code",
      "metadata": {
        "id": "8uDfGS-0piIX"
      },
      "source": [
        "class NodeClassificationModel(torch.nn.Module):\n",
        "  def __init__(self, in_feats, num_classes):\n",
        "    super(NodeClassificationModel, self).__init__()\n",
        "    self.conv1 = GraphConv(in_feats, 16)\n",
        "    self.conv2 = GraphConv(16, 32)\n",
        "    self.conv3 = GraphConv(32, num_classes)\n",
        "\n",
        "  def forward(self, g, in_feat):\n",
        "    h = self.conv1(g, in_feat)\n",
        "    h = torch.nn.functional.elu(h)\n",
        "\n",
        "    h = self.conv2(g, h)\n",
        "    h = torch.nn.functional.elu(h)\n",
        "\n",
        "    h = self.conv3(g, h)\n",
        "\n",
        "    return h\n",
        "\n",
        "node_classification_model = NodeClassificationModel(node_classification_graph.ndata['features'].shape[1], node_classification_data.num_classes)\n"
      ],
      "execution_count": 8,
      "outputs": []
    },
    {
      "cell_type": "code",
      "metadata": {
        "id": "g1JOGmNorKE-"
      },
      "source": [
        "def train(g, model, num_epochs):\n",
        "  \"\"\"The function implementing the main train loop.\"\"\"\n",
        "  losses = []\n",
        "  accs = {'train':[], 'val': [], 'test': []}\n",
        "  optimizer = torch.optim.Adam(model.parameters(), lr=1*1e-5, betas=(0.6, 0.7))\n",
        "  best_val_acc = 0.0\n",
        "  best_test_acc = 0.0\n",
        "\n",
        "  features = g.ndata['features']\n",
        "  labels = g.ndata['labels']\n",
        "  train_mask = g.ndata['train_mask']\n",
        "  val_mask = g.ndata['val_mask']\n",
        "  test_mask = g.ndata['test_mask']\n",
        "\n",
        "  for e in range(num_epochs):\n",
        "    model.train()\n",
        "    logits = model(g, features)\n",
        "    preds = logits.argmax(1)\n",
        "\n",
        "    loss = torch.nn.functional.cross_entropy(logits[train_mask], labels[train_mask])\n",
        "\n",
        "    train_acc = (preds[train_mask] == labels[train_mask]).float().mean()\n",
        "    val_acc = (preds[val_mask] == labels[val_mask]).float().mean()\n",
        "    test_acc = (preds[test_mask] == labels[test_mask]).float().mean()\n",
        "    losses.append(loss)\n",
        "    accs['train'].append(train_acc)\n",
        "    accs['val'].append(val_acc)\n",
        "    accs['test'].append(test_acc)\n",
        "\n",
        "    if best_val_acc < val_acc:\n",
        "      best_val_acc = val_acc\n",
        "      best_test_acc = test_acc\n",
        "    \n",
        "    with torch.no_grad():\n",
        "      optimizer.zero_grad()\n",
        "      loss.backward()\n",
        "      optimizer.step()\n",
        "\n",
        "    if e % 5 == 0:\n",
        "      print('In epoch {}, loss: {:.8f}, val acc: {:.8f} (best {:.8f}), test acc: {:.8f} (best {:.8f})'.format(\n",
        "                e, loss, val_acc, best_val_acc, test_acc, best_test_acc))\n",
        "  \n",
        "  return losses, accs"
      ],
      "execution_count": 11,
      "outputs": []
    },
    {
      "cell_type": "code",
      "metadata": {
        "colab": {
          "base_uri": "https://localhost:8080/"
        },
        "id": "PqyC-vYirPE4",
        "outputId": "3859005e-c0cd-427a-f2f7-6ce02e5a572f"
      },
      "source": [
        "node_classification_graph = node_classification_graph.to('cuda')\n",
        "node_classification_model = node_classification_model.to('cuda')\n",
        "node_classification_losses, node_classifications_accuracy = train(node_classification_graph, node_classification_model, 2000)"
      ],
      "execution_count": 12,
      "outputs": [
        {
          "output_type": "stream",
          "text": [
            "In epoch 0, loss: 3.90190053, val acc: 0.46333334 (best 0.46333334), test acc: 0.49111113 (best 0.49111113)\n",
            "In epoch 5, loss: 3.88860059, val acc: 0.46333334 (best 0.46333334), test acc: 0.49111113 (best 0.49111113)\n",
            "In epoch 10, loss: 3.87530684, val acc: 0.46333334 (best 0.46333334), test acc: 0.49111113 (best 0.49111113)\n",
            "In epoch 15, loss: 3.86201739, val acc: 0.46333334 (best 0.46333334), test acc: 0.49111113 (best 0.49111113)\n",
            "In epoch 20, loss: 3.84873271, val acc: 0.46333334 (best 0.46333334), test acc: 0.49111113 (best 0.49111113)\n",
            "In epoch 25, loss: 3.83545303, val acc: 0.46333334 (best 0.46333334), test acc: 0.49111113 (best 0.49111113)\n",
            "In epoch 30, loss: 3.82217669, val acc: 0.46333334 (best 0.46333334), test acc: 0.49111113 (best 0.49111113)\n",
            "In epoch 35, loss: 3.80890489, val acc: 0.46333334 (best 0.46333334), test acc: 0.49111113 (best 0.49111113)\n",
            "In epoch 40, loss: 3.79563665, val acc: 0.46333334 (best 0.46333334), test acc: 0.49111113 (best 0.49111113)\n",
            "In epoch 45, loss: 3.78237247, val acc: 0.46333334 (best 0.46333334), test acc: 0.49111113 (best 0.49111113)\n",
            "In epoch 50, loss: 3.76911235, val acc: 0.46333334 (best 0.46333334), test acc: 0.49111113 (best 0.49111113)\n",
            "In epoch 55, loss: 3.75585628, val acc: 0.46333334 (best 0.46333334), test acc: 0.49111113 (best 0.49111113)\n",
            "In epoch 60, loss: 3.74260545, val acc: 0.46333334 (best 0.46333334), test acc: 0.49111113 (best 0.49111113)\n",
            "In epoch 65, loss: 3.72935796, val acc: 0.46333334 (best 0.46333334), test acc: 0.49111113 (best 0.49111113)\n",
            "In epoch 70, loss: 3.71611452, val acc: 0.46333334 (best 0.46333334), test acc: 0.49111113 (best 0.49111113)\n",
            "In epoch 75, loss: 3.70287585, val acc: 0.46333334 (best 0.46333334), test acc: 0.49111113 (best 0.49111113)\n",
            "In epoch 80, loss: 3.68964028, val acc: 0.46333334 (best 0.46333334), test acc: 0.49111113 (best 0.49111113)\n",
            "In epoch 85, loss: 3.67640972, val acc: 0.46333334 (best 0.46333334), test acc: 0.49111113 (best 0.49111113)\n",
            "In epoch 90, loss: 3.66318226, val acc: 0.46333334 (best 0.46333334), test acc: 0.49111113 (best 0.49111113)\n",
            "In epoch 95, loss: 3.64996052, val acc: 0.46333334 (best 0.46333334), test acc: 0.49111113 (best 0.49111113)\n",
            "In epoch 100, loss: 3.63674092, val acc: 0.46333334 (best 0.46333334), test acc: 0.49111113 (best 0.49111113)\n",
            "In epoch 105, loss: 3.62352681, val acc: 0.46333334 (best 0.46333334), test acc: 0.49111113 (best 0.49111113)\n",
            "In epoch 110, loss: 3.61031580, val acc: 0.46333334 (best 0.46333334), test acc: 0.49111113 (best 0.49111113)\n",
            "In epoch 115, loss: 3.59710884, val acc: 0.46333334 (best 0.46333334), test acc: 0.49111113 (best 0.49111113)\n",
            "In epoch 120, loss: 3.58390689, val acc: 0.46333334 (best 0.46333334), test acc: 0.49111113 (best 0.49111113)\n",
            "In epoch 125, loss: 3.57070875, val acc: 0.46333334 (best 0.46333334), test acc: 0.49111113 (best 0.49111113)\n",
            "In epoch 130, loss: 3.55751514, val acc: 0.46333334 (best 0.46333334), test acc: 0.49111113 (best 0.49111113)\n",
            "In epoch 135, loss: 3.54432416, val acc: 0.46333334 (best 0.46333334), test acc: 0.49111113 (best 0.49111113)\n",
            "In epoch 140, loss: 3.53113961, val acc: 0.46333334 (best 0.46333334), test acc: 0.49111113 (best 0.49111113)\n",
            "In epoch 145, loss: 3.51795816, val acc: 0.46333334 (best 0.46333334), test acc: 0.49111113 (best 0.49111113)\n",
            "In epoch 150, loss: 3.50478196, val acc: 0.46333334 (best 0.46333334), test acc: 0.49111113 (best 0.49111113)\n",
            "In epoch 155, loss: 3.49160862, val acc: 0.46333334 (best 0.46333334), test acc: 0.49111113 (best 0.49111113)\n",
            "In epoch 160, loss: 3.47844052, val acc: 0.46333334 (best 0.46333334), test acc: 0.49111113 (best 0.49111113)\n",
            "In epoch 165, loss: 3.46527672, val acc: 0.46333334 (best 0.46333334), test acc: 0.49111113 (best 0.49111113)\n",
            "In epoch 170, loss: 3.45211625, val acc: 0.46333334 (best 0.46333334), test acc: 0.49111113 (best 0.49111113)\n",
            "In epoch 175, loss: 3.43896103, val acc: 0.46333334 (best 0.46333334), test acc: 0.49111113 (best 0.49111113)\n",
            "In epoch 180, loss: 3.42580962, val acc: 0.46333334 (best 0.46333334), test acc: 0.49111113 (best 0.49111113)\n",
            "In epoch 185, loss: 3.41266346, val acc: 0.46333334 (best 0.46333334), test acc: 0.49111113 (best 0.49111113)\n",
            "In epoch 190, loss: 3.39952159, val acc: 0.46333334 (best 0.46333334), test acc: 0.49111113 (best 0.49111113)\n",
            "In epoch 195, loss: 3.38638401, val acc: 0.46333334 (best 0.46333334), test acc: 0.49111113 (best 0.49111113)\n",
            "In epoch 200, loss: 3.37325191, val acc: 0.46333334 (best 0.46333334), test acc: 0.49111113 (best 0.49111113)\n",
            "In epoch 205, loss: 3.36012363, val acc: 0.46333334 (best 0.46333334), test acc: 0.49111113 (best 0.49111113)\n",
            "In epoch 210, loss: 3.34700084, val acc: 0.46333334 (best 0.46333334), test acc: 0.49111113 (best 0.49111113)\n",
            "In epoch 215, loss: 3.33388162, val acc: 0.46333334 (best 0.46333334), test acc: 0.49111113 (best 0.49111113)\n",
            "In epoch 220, loss: 3.32076812, val acc: 0.46333334 (best 0.46333334), test acc: 0.49111113 (best 0.49111113)\n",
            "In epoch 225, loss: 3.30765843, val acc: 0.46333334 (best 0.46333334), test acc: 0.49111113 (best 0.49111113)\n",
            "In epoch 230, loss: 3.29455280, val acc: 0.46333334 (best 0.46333334), test acc: 0.49111113 (best 0.49111113)\n",
            "In epoch 235, loss: 3.28145194, val acc: 0.46333334 (best 0.46333334), test acc: 0.49111113 (best 0.49111113)\n",
            "In epoch 240, loss: 3.26835680, val acc: 0.46333334 (best 0.46333334), test acc: 0.49111113 (best 0.49111113)\n",
            "In epoch 245, loss: 3.25526643, val acc: 0.46333334 (best 0.46333334), test acc: 0.49111113 (best 0.49111113)\n",
            "In epoch 250, loss: 3.24217963, val acc: 0.46333334 (best 0.46333334), test acc: 0.49111113 (best 0.49111113)\n",
            "In epoch 255, loss: 3.22909856, val acc: 0.46333334 (best 0.46333334), test acc: 0.49111113 (best 0.49111113)\n",
            "In epoch 260, loss: 3.21602249, val acc: 0.46333334 (best 0.46333334), test acc: 0.49111113 (best 0.49111113)\n",
            "In epoch 265, loss: 3.20295072, val acc: 0.46333334 (best 0.46333334), test acc: 0.49111113 (best 0.49111113)\n",
            "In epoch 270, loss: 3.18988395, val acc: 0.46333334 (best 0.46333334), test acc: 0.49111113 (best 0.49111113)\n",
            "In epoch 275, loss: 3.17682195, val acc: 0.46333334 (best 0.46333334), test acc: 0.49111113 (best 0.49111113)\n",
            "In epoch 280, loss: 3.16376591, val acc: 0.46333334 (best 0.46333334), test acc: 0.49111113 (best 0.49111113)\n",
            "In epoch 285, loss: 3.15071392, val acc: 0.46333334 (best 0.46333334), test acc: 0.49111113 (best 0.49111113)\n",
            "In epoch 290, loss: 3.13766694, val acc: 0.46333334 (best 0.46333334), test acc: 0.49111113 (best 0.49111113)\n",
            "In epoch 295, loss: 3.12462568, val acc: 0.46333334 (best 0.46333334), test acc: 0.49111113 (best 0.49111113)\n",
            "In epoch 300, loss: 3.11158919, val acc: 0.46333334 (best 0.46333334), test acc: 0.49111113 (best 0.49111113)\n",
            "In epoch 305, loss: 3.09855819, val acc: 0.46333334 (best 0.46333334), test acc: 0.49111113 (best 0.49111113)\n",
            "In epoch 310, loss: 3.08553195, val acc: 0.46333334 (best 0.46333334), test acc: 0.49111113 (best 0.49111113)\n",
            "In epoch 315, loss: 3.07251096, val acc: 0.46333334 (best 0.46333334), test acc: 0.49111113 (best 0.49111113)\n",
            "In epoch 320, loss: 3.05949545, val acc: 0.46333334 (best 0.46333334), test acc: 0.49111113 (best 0.49111113)\n",
            "In epoch 325, loss: 3.04648495, val acc: 0.46333334 (best 0.46333334), test acc: 0.49111113 (best 0.49111113)\n",
            "In epoch 330, loss: 3.03347993, val acc: 0.46333334 (best 0.46333334), test acc: 0.49111113 (best 0.49111113)\n",
            "In epoch 335, loss: 3.02047920, val acc: 0.46333334 (best 0.46333334), test acc: 0.49111113 (best 0.49111113)\n",
            "In epoch 340, loss: 3.00748396, val acc: 0.46333334 (best 0.46333334), test acc: 0.49111113 (best 0.49111113)\n",
            "In epoch 345, loss: 2.99449348, val acc: 0.46333334 (best 0.46333334), test acc: 0.49111113 (best 0.49111113)\n",
            "In epoch 350, loss: 2.98150778, val acc: 0.46333334 (best 0.46333334), test acc: 0.49111113 (best 0.49111113)\n",
            "In epoch 355, loss: 2.96852756, val acc: 0.46333334 (best 0.46333334), test acc: 0.49111113 (best 0.49111113)\n",
            "In epoch 360, loss: 2.95555234, val acc: 0.46333334 (best 0.46333334), test acc: 0.49111113 (best 0.49111113)\n",
            "In epoch 365, loss: 2.94258118, val acc: 0.46333334 (best 0.46333334), test acc: 0.49111113 (best 0.49111113)\n",
            "In epoch 370, loss: 2.92961693, val acc: 0.46333334 (best 0.46333334), test acc: 0.49111113 (best 0.49111113)\n",
            "In epoch 375, loss: 2.91665745, val acc: 0.46333334 (best 0.46333334), test acc: 0.49111113 (best 0.49111113)\n",
            "In epoch 380, loss: 2.90370345, val acc: 0.46333334 (best 0.46333334), test acc: 0.49111113 (best 0.49111113)\n",
            "In epoch 385, loss: 2.89075422, val acc: 0.46333334 (best 0.46333334), test acc: 0.49111113 (best 0.49111113)\n",
            "In epoch 390, loss: 2.87781215, val acc: 0.46333334 (best 0.46333334), test acc: 0.49111113 (best 0.49111113)\n",
            "In epoch 395, loss: 2.86487389, val acc: 0.46333334 (best 0.46333334), test acc: 0.49111113 (best 0.49111113)\n",
            "In epoch 400, loss: 2.85194182, val acc: 0.46333334 (best 0.46333334), test acc: 0.49111113 (best 0.49111113)\n",
            "In epoch 405, loss: 2.83901572, val acc: 0.46333334 (best 0.46333334), test acc: 0.49111113 (best 0.49111113)\n",
            "In epoch 410, loss: 2.82609510, val acc: 0.46333334 (best 0.46333334), test acc: 0.49111113 (best 0.49111113)\n",
            "In epoch 415, loss: 2.81318045, val acc: 0.46333334 (best 0.46333334), test acc: 0.49111113 (best 0.49111113)\n",
            "In epoch 420, loss: 2.80027246, val acc: 0.46333334 (best 0.46333334), test acc: 0.49111113 (best 0.49111113)\n",
            "In epoch 425, loss: 2.78736925, val acc: 0.46333334 (best 0.46333334), test acc: 0.49111113 (best 0.49111113)\n",
            "In epoch 430, loss: 2.77447271, val acc: 0.46333334 (best 0.46333334), test acc: 0.49111113 (best 0.49111113)\n",
            "In epoch 435, loss: 2.76158237, val acc: 0.46333334 (best 0.46333334), test acc: 0.49111113 (best 0.49111113)\n",
            "In epoch 440, loss: 2.74869823, val acc: 0.46333334 (best 0.46333334), test acc: 0.49111113 (best 0.49111113)\n",
            "In epoch 445, loss: 2.73581982, val acc: 0.46333334 (best 0.46333334), test acc: 0.49111113 (best 0.49111113)\n",
            "In epoch 450, loss: 2.72294855, val acc: 0.46333334 (best 0.46333334), test acc: 0.49111113 (best 0.49111113)\n",
            "In epoch 455, loss: 2.71008301, val acc: 0.46333334 (best 0.46333334), test acc: 0.49111113 (best 0.49111113)\n",
            "In epoch 460, loss: 2.69722366, val acc: 0.46333334 (best 0.46333334), test acc: 0.49111113 (best 0.49111113)\n",
            "In epoch 465, loss: 2.68437266, val acc: 0.46333334 (best 0.46333334), test acc: 0.49111113 (best 0.49111113)\n",
            "In epoch 470, loss: 2.67152691, val acc: 0.46333334 (best 0.46333334), test acc: 0.49111113 (best 0.49111113)\n",
            "In epoch 475, loss: 2.65868807, val acc: 0.46333334 (best 0.46333334), test acc: 0.49111113 (best 0.49111113)\n",
            "In epoch 480, loss: 2.64585638, val acc: 0.46333334 (best 0.46333334), test acc: 0.49111113 (best 0.49111113)\n",
            "In epoch 485, loss: 2.63303137, val acc: 0.46333334 (best 0.46333334), test acc: 0.49111113 (best 0.49111113)\n",
            "In epoch 490, loss: 2.62021375, val acc: 0.46333334 (best 0.46333334), test acc: 0.49111113 (best 0.49111113)\n",
            "In epoch 495, loss: 2.60740328, val acc: 0.46333334 (best 0.46333334), test acc: 0.49111113 (best 0.49111113)\n",
            "In epoch 500, loss: 2.59459972, val acc: 0.46333334 (best 0.46333334), test acc: 0.49111113 (best 0.49111113)\n",
            "In epoch 505, loss: 2.58180428, val acc: 0.46333334 (best 0.46333334), test acc: 0.49111113 (best 0.49111113)\n",
            "In epoch 510, loss: 2.56901670, val acc: 0.46333334 (best 0.46333334), test acc: 0.49111113 (best 0.49111113)\n",
            "In epoch 515, loss: 2.55623603, val acc: 0.46333334 (best 0.46333334), test acc: 0.49111113 (best 0.49111113)\n",
            "In epoch 520, loss: 2.54346371, val acc: 0.46333334 (best 0.46333334), test acc: 0.49111113 (best 0.49111113)\n",
            "In epoch 525, loss: 2.53069878, val acc: 0.46333334 (best 0.46333334), test acc: 0.49111113 (best 0.49111113)\n",
            "In epoch 530, loss: 2.51794267, val acc: 0.46333334 (best 0.46333334), test acc: 0.49111113 (best 0.49111113)\n",
            "In epoch 535, loss: 2.50519419, val acc: 0.46333334 (best 0.46333334), test acc: 0.49111113 (best 0.49111113)\n",
            "In epoch 540, loss: 2.49245381, val acc: 0.46333334 (best 0.46333334), test acc: 0.49111113 (best 0.49111113)\n",
            "In epoch 545, loss: 2.47972131, val acc: 0.46333334 (best 0.46333334), test acc: 0.49111113 (best 0.49111113)\n",
            "In epoch 550, loss: 2.46699691, val acc: 0.46333334 (best 0.46333334), test acc: 0.49111113 (best 0.49111113)\n",
            "In epoch 555, loss: 2.45428181, val acc: 0.46333334 (best 0.46333334), test acc: 0.49111113 (best 0.49111113)\n",
            "In epoch 560, loss: 2.44157553, val acc: 0.46333334 (best 0.46333334), test acc: 0.49111113 (best 0.49111113)\n",
            "In epoch 565, loss: 2.42887759, val acc: 0.46333334 (best 0.46333334), test acc: 0.49111113 (best 0.49111113)\n",
            "In epoch 570, loss: 2.41618919, val acc: 0.46333334 (best 0.46333334), test acc: 0.49111113 (best 0.49111113)\n",
            "In epoch 575, loss: 2.40351009, val acc: 0.46333334 (best 0.46333334), test acc: 0.49111113 (best 0.49111113)\n",
            "In epoch 580, loss: 2.39083958, val acc: 0.46333334 (best 0.46333334), test acc: 0.49111113 (best 0.49111113)\n",
            "In epoch 585, loss: 2.37817931, val acc: 0.46333334 (best 0.46333334), test acc: 0.49111113 (best 0.49111113)\n",
            "In epoch 590, loss: 2.36552811, val acc: 0.46333334 (best 0.46333334), test acc: 0.49111113 (best 0.49111113)\n",
            "In epoch 595, loss: 2.35288620, val acc: 0.46333334 (best 0.46333334), test acc: 0.49111113 (best 0.49111113)\n",
            "In epoch 600, loss: 2.34025455, val acc: 0.46333334 (best 0.46333334), test acc: 0.49111113 (best 0.49111113)\n",
            "In epoch 605, loss: 2.32763362, val acc: 0.46333334 (best 0.46333334), test acc: 0.49111113 (best 0.49111113)\n",
            "In epoch 610, loss: 2.31502199, val acc: 0.46333334 (best 0.46333334), test acc: 0.49111113 (best 0.49111113)\n",
            "In epoch 615, loss: 2.30242085, val acc: 0.46333334 (best 0.46333334), test acc: 0.49111113 (best 0.49111113)\n",
            "In epoch 620, loss: 2.28983045, val acc: 0.46333334 (best 0.46333334), test acc: 0.49111113 (best 0.49111113)\n",
            "In epoch 625, loss: 2.27725077, val acc: 0.46333334 (best 0.46333334), test acc: 0.49111113 (best 0.49111113)\n",
            "In epoch 630, loss: 2.26468229, val acc: 0.46333334 (best 0.46333334), test acc: 0.49111113 (best 0.49111113)\n",
            "In epoch 635, loss: 2.25212407, val acc: 0.46333334 (best 0.46333334), test acc: 0.49111113 (best 0.49111113)\n",
            "In epoch 640, loss: 2.23957825, val acc: 0.46333334 (best 0.46333334), test acc: 0.49111113 (best 0.49111113)\n",
            "In epoch 645, loss: 2.22704363, val acc: 0.46333334 (best 0.46333334), test acc: 0.49111113 (best 0.49111113)\n",
            "In epoch 650, loss: 2.21452093, val acc: 0.46333334 (best 0.46333334), test acc: 0.49111113 (best 0.49111113)\n",
            "In epoch 655, loss: 2.20200944, val acc: 0.46333334 (best 0.46333334), test acc: 0.49111113 (best 0.49111113)\n",
            "In epoch 660, loss: 2.18951011, val acc: 0.46333334 (best 0.46333334), test acc: 0.49111113 (best 0.49111113)\n",
            "In epoch 665, loss: 2.17702293, val acc: 0.46333334 (best 0.46333334), test acc: 0.49111113 (best 0.49111113)\n",
            "In epoch 670, loss: 2.16454840, val acc: 0.46333334 (best 0.46333334), test acc: 0.49111113 (best 0.49111113)\n",
            "In epoch 675, loss: 2.15208745, val acc: 0.46333334 (best 0.46333334), test acc: 0.49111113 (best 0.49111113)\n",
            "In epoch 680, loss: 2.13963842, val acc: 0.46333334 (best 0.46333334), test acc: 0.49111113 (best 0.49111113)\n",
            "In epoch 685, loss: 2.12720275, val acc: 0.46333334 (best 0.46333334), test acc: 0.49111113 (best 0.49111113)\n",
            "In epoch 690, loss: 2.11477995, val acc: 0.46333334 (best 0.46333334), test acc: 0.49111113 (best 0.49111113)\n",
            "In epoch 695, loss: 2.10237098, val acc: 0.46333334 (best 0.46333334), test acc: 0.49111113 (best 0.49111113)\n",
            "In epoch 700, loss: 2.08997607, val acc: 0.46333334 (best 0.46333334), test acc: 0.49111113 (best 0.49111113)\n",
            "In epoch 705, loss: 2.07759547, val acc: 0.46333334 (best 0.46333334), test acc: 0.49111113 (best 0.49111113)\n",
            "In epoch 710, loss: 2.06522870, val acc: 0.46333334 (best 0.46333334), test acc: 0.49111113 (best 0.49111113)\n",
            "In epoch 715, loss: 2.05287814, val acc: 0.46333334 (best 0.46333334), test acc: 0.49111113 (best 0.49111113)\n",
            "In epoch 720, loss: 2.04054141, val acc: 0.46333334 (best 0.46333334), test acc: 0.49111113 (best 0.49111113)\n",
            "In epoch 725, loss: 2.02822089, val acc: 0.46333334 (best 0.46333334), test acc: 0.49111113 (best 0.49111113)\n",
            "In epoch 730, loss: 2.01591468, val acc: 0.46333334 (best 0.46333334), test acc: 0.49111113 (best 0.49111113)\n",
            "In epoch 735, loss: 2.00362563, val acc: 0.46333334 (best 0.46333334), test acc: 0.49111113 (best 0.49111113)\n",
            "In epoch 740, loss: 1.99135160, val acc: 0.46333334 (best 0.46333334), test acc: 0.49111113 (best 0.49111113)\n",
            "In epoch 745, loss: 1.97909391, val acc: 0.46333334 (best 0.46333334), test acc: 0.49111113 (best 0.49111113)\n",
            "In epoch 750, loss: 1.96685266, val acc: 0.46333334 (best 0.46333334), test acc: 0.49111113 (best 0.49111113)\n",
            "In epoch 755, loss: 1.95462894, val acc: 0.46333334 (best 0.46333334), test acc: 0.49111113 (best 0.49111113)\n",
            "In epoch 760, loss: 1.94242215, val acc: 0.46333334 (best 0.46333334), test acc: 0.49111113 (best 0.49111113)\n",
            "In epoch 765, loss: 1.93023312, val acc: 0.46333334 (best 0.46333334), test acc: 0.49111113 (best 0.49111113)\n",
            "In epoch 770, loss: 1.91806161, val acc: 0.46333334 (best 0.46333334), test acc: 0.49111113 (best 0.49111113)\n",
            "In epoch 775, loss: 1.90590930, val acc: 0.46333334 (best 0.46333334), test acc: 0.49111113 (best 0.49111113)\n",
            "In epoch 780, loss: 1.89377534, val acc: 0.46333334 (best 0.46333334), test acc: 0.49111113 (best 0.49111113)\n",
            "In epoch 785, loss: 1.88166189, val acc: 0.46333334 (best 0.46333334), test acc: 0.49111113 (best 0.49111113)\n",
            "In epoch 790, loss: 1.86956787, val acc: 0.46333334 (best 0.46333334), test acc: 0.49111113 (best 0.49111113)\n",
            "In epoch 795, loss: 1.85749280, val acc: 0.46333334 (best 0.46333334), test acc: 0.49111113 (best 0.49111113)\n",
            "In epoch 800, loss: 1.84543836, val acc: 0.46333334 (best 0.46333334), test acc: 0.49111113 (best 0.49111113)\n",
            "In epoch 805, loss: 1.83340490, val acc: 0.46333334 (best 0.46333334), test acc: 0.49111113 (best 0.49111113)\n",
            "In epoch 810, loss: 1.82139170, val acc: 0.46333334 (best 0.46333334), test acc: 0.49111113 (best 0.49111113)\n",
            "In epoch 815, loss: 1.80939996, val acc: 0.46333334 (best 0.46333334), test acc: 0.49111113 (best 0.49111113)\n",
            "In epoch 820, loss: 1.79742956, val acc: 0.46333334 (best 0.46333334), test acc: 0.49111113 (best 0.49111113)\n",
            "In epoch 825, loss: 1.78548169, val acc: 0.46333334 (best 0.46333334), test acc: 0.49111113 (best 0.49111113)\n",
            "In epoch 830, loss: 1.77355659, val acc: 0.46333334 (best 0.46333334), test acc: 0.49111113 (best 0.49111113)\n",
            "In epoch 835, loss: 1.76165390, val acc: 0.46333334 (best 0.46333334), test acc: 0.49111113 (best 0.49111113)\n",
            "In epoch 840, loss: 1.74977529, val acc: 0.46333334 (best 0.46333334), test acc: 0.49111113 (best 0.49111113)\n",
            "In epoch 845, loss: 1.73792064, val acc: 0.46333334 (best 0.46333334), test acc: 0.49111113 (best 0.49111113)\n",
            "In epoch 850, loss: 1.72608972, val acc: 0.46333334 (best 0.46333334), test acc: 0.49111113 (best 0.49111113)\n",
            "In epoch 855, loss: 1.71428442, val acc: 0.46333334 (best 0.46333334), test acc: 0.49111113 (best 0.49111113)\n",
            "In epoch 860, loss: 1.70250452, val acc: 0.46333334 (best 0.46333334), test acc: 0.49111113 (best 0.49111113)\n",
            "In epoch 865, loss: 1.69075024, val acc: 0.46333334 (best 0.46333334), test acc: 0.49111113 (best 0.49111113)\n",
            "In epoch 870, loss: 1.67902219, val acc: 0.46333334 (best 0.46333334), test acc: 0.49111113 (best 0.49111113)\n",
            "In epoch 875, loss: 1.66732121, val acc: 0.46333334 (best 0.46333334), test acc: 0.49111113 (best 0.49111113)\n",
            "In epoch 880, loss: 1.65564752, val acc: 0.46333334 (best 0.46333334), test acc: 0.49111113 (best 0.49111113)\n",
            "In epoch 885, loss: 1.64400244, val acc: 0.46333334 (best 0.46333334), test acc: 0.49111113 (best 0.49111113)\n",
            "In epoch 890, loss: 1.63238502, val acc: 0.46333334 (best 0.46333334), test acc: 0.49111113 (best 0.49111113)\n",
            "In epoch 895, loss: 1.62079704, val acc: 0.46333334 (best 0.46333334), test acc: 0.49111113 (best 0.49111113)\n",
            "In epoch 900, loss: 1.60923910, val acc: 0.46333334 (best 0.46333334), test acc: 0.49111113 (best 0.49111113)\n",
            "In epoch 905, loss: 1.59771121, val acc: 0.46333334 (best 0.46333334), test acc: 0.49111113 (best 0.49111113)\n",
            "In epoch 910, loss: 1.58621454, val acc: 0.46333334 (best 0.46333334), test acc: 0.49111113 (best 0.49111113)\n",
            "In epoch 915, loss: 1.57474995, val acc: 0.46333334 (best 0.46333334), test acc: 0.49111113 (best 0.49111113)\n",
            "In epoch 920, loss: 1.56331706, val acc: 0.46333334 (best 0.46333334), test acc: 0.49111113 (best 0.49111113)\n",
            "In epoch 925, loss: 1.55191696, val acc: 0.46333334 (best 0.46333334), test acc: 0.49111113 (best 0.49111113)\n",
            "In epoch 930, loss: 1.54055047, val acc: 0.46333334 (best 0.46333334), test acc: 0.49111113 (best 0.49111113)\n",
            "In epoch 935, loss: 1.52921844, val acc: 0.46333334 (best 0.46333334), test acc: 0.49111113 (best 0.49111113)\n",
            "In epoch 940, loss: 1.51792037, val acc: 0.46333334 (best 0.46333334), test acc: 0.49111113 (best 0.49111113)\n",
            "In epoch 945, loss: 1.50665855, val acc: 0.46333334 (best 0.46333334), test acc: 0.49111113 (best 0.49111113)\n",
            "In epoch 950, loss: 1.49543226, val acc: 0.46333334 (best 0.46333334), test acc: 0.49111113 (best 0.49111113)\n",
            "In epoch 955, loss: 1.48424351, val acc: 0.46333334 (best 0.46333334), test acc: 0.49111113 (best 0.49111113)\n",
            "In epoch 960, loss: 1.47309220, val acc: 0.46333334 (best 0.46333334), test acc: 0.49111113 (best 0.49111113)\n",
            "In epoch 965, loss: 1.46197915, val acc: 0.46333334 (best 0.46333334), test acc: 0.49111113 (best 0.49111113)\n",
            "In epoch 970, loss: 1.45090544, val acc: 0.46333334 (best 0.46333334), test acc: 0.49111113 (best 0.49111113)\n",
            "In epoch 975, loss: 1.43987095, val acc: 0.46333334 (best 0.46333334), test acc: 0.49111113 (best 0.49111113)\n",
            "In epoch 980, loss: 1.42887843, val acc: 0.46333334 (best 0.46333334), test acc: 0.49111113 (best 0.49111113)\n",
            "In epoch 985, loss: 1.41792703, val acc: 0.46333334 (best 0.46333334), test acc: 0.49111113 (best 0.49111113)\n",
            "In epoch 990, loss: 1.40701795, val acc: 0.46333334 (best 0.46333334), test acc: 0.49111113 (best 0.49111113)\n",
            "In epoch 995, loss: 1.39615226, val acc: 0.46333334 (best 0.46333334), test acc: 0.49111113 (best 0.49111113)\n",
            "In epoch 1000, loss: 1.38533032, val acc: 0.46333334 (best 0.46333334), test acc: 0.49111113 (best 0.49111113)\n",
            "In epoch 1005, loss: 1.37455308, val acc: 0.46333334 (best 0.46333334), test acc: 0.49111113 (best 0.49111113)\n",
            "In epoch 1010, loss: 1.36382103, val acc: 0.46333334 (best 0.46333334), test acc: 0.49111113 (best 0.49111113)\n",
            "In epoch 1015, loss: 1.35313570, val acc: 0.46333334 (best 0.46333334), test acc: 0.49111113 (best 0.49111113)\n",
            "In epoch 1020, loss: 1.34249759, val acc: 0.46333334 (best 0.46333334), test acc: 0.49111113 (best 0.49111113)\n",
            "In epoch 1025, loss: 1.33190703, val acc: 0.46333334 (best 0.46333334), test acc: 0.49111113 (best 0.49111113)\n",
            "In epoch 1030, loss: 1.32136559, val acc: 0.46333334 (best 0.46333334), test acc: 0.49111113 (best 0.49111113)\n",
            "In epoch 1035, loss: 1.31087375, val acc: 0.46333334 (best 0.46333334), test acc: 0.49111113 (best 0.49111113)\n",
            "In epoch 1040, loss: 1.30043328, val acc: 0.46333334 (best 0.46333334), test acc: 0.49111113 (best 0.49111113)\n",
            "In epoch 1045, loss: 1.29004455, val acc: 0.46333334 (best 0.46333334), test acc: 0.49111113 (best 0.49111113)\n",
            "In epoch 1050, loss: 1.27970850, val acc: 0.46333334 (best 0.46333334), test acc: 0.49111113 (best 0.49111113)\n",
            "In epoch 1055, loss: 1.26942635, val acc: 0.46333334 (best 0.46333334), test acc: 0.49111113 (best 0.49111113)\n",
            "In epoch 1060, loss: 1.25919902, val acc: 0.46333334 (best 0.46333334), test acc: 0.49111113 (best 0.49111113)\n",
            "In epoch 1065, loss: 1.24902761, val acc: 0.46333334 (best 0.46333334), test acc: 0.49111113 (best 0.49111113)\n",
            "In epoch 1070, loss: 1.23891354, val acc: 0.46333334 (best 0.46333334), test acc: 0.49111113 (best 0.49111113)\n",
            "In epoch 1075, loss: 1.22885716, val acc: 0.46333334 (best 0.46333334), test acc: 0.49111113 (best 0.49111113)\n",
            "In epoch 1080, loss: 1.21886039, val acc: 0.46333334 (best 0.46333334), test acc: 0.49111113 (best 0.49111113)\n",
            "In epoch 1085, loss: 1.20892358, val acc: 0.46333334 (best 0.46333334), test acc: 0.49111113 (best 0.49111113)\n",
            "In epoch 1090, loss: 1.19904816, val acc: 0.46333334 (best 0.46333334), test acc: 0.49111113 (best 0.49111113)\n",
            "In epoch 1095, loss: 1.18923402, val acc: 0.46333334 (best 0.46333334), test acc: 0.49111113 (best 0.49111113)\n",
            "In epoch 1100, loss: 1.17948365, val acc: 0.46333334 (best 0.46333334), test acc: 0.49111113 (best 0.49111113)\n",
            "In epoch 1105, loss: 1.16979754, val acc: 0.46333334 (best 0.46333334), test acc: 0.49111113 (best 0.49111113)\n",
            "In epoch 1110, loss: 1.16017604, val acc: 0.46333334 (best 0.46333334), test acc: 0.49111113 (best 0.49111113)\n",
            "In epoch 1115, loss: 1.15062082, val acc: 0.46333334 (best 0.46333334), test acc: 0.49111113 (best 0.49111113)\n",
            "In epoch 1120, loss: 1.14113271, val acc: 0.46333334 (best 0.46333334), test acc: 0.49111113 (best 0.49111113)\n",
            "In epoch 1125, loss: 1.13171363, val acc: 0.46333334 (best 0.46333334), test acc: 0.49111113 (best 0.49111113)\n",
            "In epoch 1130, loss: 1.12236381, val acc: 0.46333334 (best 0.46333334), test acc: 0.49111113 (best 0.49111113)\n",
            "In epoch 1135, loss: 1.11308479, val acc: 0.46333334 (best 0.46333334), test acc: 0.49111113 (best 0.49111113)\n",
            "In epoch 1140, loss: 1.10387826, val acc: 0.46333334 (best 0.46333334), test acc: 0.49111113 (best 0.49111113)\n",
            "In epoch 1145, loss: 1.09474432, val acc: 0.46333334 (best 0.46333334), test acc: 0.49111113 (best 0.49111113)\n",
            "In epoch 1150, loss: 1.08568478, val acc: 0.46333334 (best 0.46333334), test acc: 0.49111113 (best 0.49111113)\n",
            "In epoch 1155, loss: 1.07670069, val acc: 0.46333334 (best 0.46333334), test acc: 0.49111113 (best 0.49111113)\n",
            "In epoch 1160, loss: 1.06779325, val acc: 0.46333334 (best 0.46333334), test acc: 0.49111113 (best 0.49111113)\n",
            "In epoch 1165, loss: 1.05896294, val acc: 0.46333334 (best 0.46333334), test acc: 0.49111113 (best 0.49111113)\n",
            "In epoch 1170, loss: 1.05021167, val acc: 0.46333334 (best 0.46333334), test acc: 0.49111113 (best 0.49111113)\n",
            "In epoch 1175, loss: 1.04154086, val acc: 0.46333334 (best 0.46333334), test acc: 0.49111113 (best 0.49111113)\n",
            "In epoch 1180, loss: 1.03295100, val acc: 0.46333334 (best 0.46333334), test acc: 0.49111113 (best 0.49111113)\n",
            "In epoch 1185, loss: 1.02444410, val acc: 0.46333334 (best 0.46333334), test acc: 0.49111113 (best 0.49111113)\n",
            "In epoch 1190, loss: 1.01602113, val acc: 0.46333334 (best 0.46333334), test acc: 0.49111113 (best 0.49111113)\n",
            "In epoch 1195, loss: 1.00768340, val acc: 0.46333334 (best 0.46333334), test acc: 0.49111113 (best 0.49111113)\n",
            "In epoch 1200, loss: 0.99943221, val acc: 0.46333334 (best 0.46333334), test acc: 0.49111113 (best 0.49111113)\n",
            "In epoch 1205, loss: 0.99126858, val acc: 0.46333334 (best 0.46333334), test acc: 0.49111113 (best 0.49111113)\n",
            "In epoch 1210, loss: 0.98319411, val acc: 0.46333334 (best 0.46333334), test acc: 0.49111113 (best 0.49111113)\n",
            "In epoch 1215, loss: 0.97520977, val acc: 0.46333334 (best 0.46333334), test acc: 0.49111113 (best 0.49111113)\n",
            "In epoch 1220, loss: 0.96731740, val acc: 0.46333334 (best 0.46333334), test acc: 0.49111113 (best 0.49111113)\n",
            "In epoch 1225, loss: 0.95951802, val acc: 0.46333334 (best 0.46333334), test acc: 0.49111113 (best 0.49111113)\n",
            "In epoch 1230, loss: 0.95181334, val acc: 0.46333334 (best 0.46333334), test acc: 0.49111113 (best 0.49111113)\n",
            "In epoch 1235, loss: 0.94420433, val acc: 0.46333334 (best 0.46333334), test acc: 0.49111113 (best 0.49111113)\n",
            "In epoch 1240, loss: 0.93669260, val acc: 0.46333334 (best 0.46333334), test acc: 0.49111113 (best 0.49111113)\n",
            "In epoch 1245, loss: 0.92927951, val acc: 0.46333334 (best 0.46333334), test acc: 0.49111113 (best 0.49111113)\n",
            "In epoch 1250, loss: 0.92196572, val acc: 0.46333334 (best 0.46333334), test acc: 0.49111113 (best 0.49111113)\n",
            "In epoch 1255, loss: 0.91475338, val acc: 0.46333334 (best 0.46333334), test acc: 0.49111113 (best 0.49111113)\n",
            "In epoch 1260, loss: 0.90764380, val acc: 0.46333334 (best 0.46333334), test acc: 0.49111113 (best 0.49111113)\n",
            "In epoch 1265, loss: 0.90063834, val acc: 0.46333334 (best 0.46333334), test acc: 0.49111113 (best 0.49111113)\n",
            "In epoch 1270, loss: 0.89373809, val acc: 0.46333334 (best 0.46333334), test acc: 0.49111113 (best 0.49111113)\n",
            "In epoch 1275, loss: 0.88694394, val acc: 0.46333334 (best 0.46333334), test acc: 0.49111113 (best 0.49111113)\n",
            "In epoch 1280, loss: 0.88025814, val acc: 0.46333334 (best 0.46333334), test acc: 0.49111113 (best 0.49111113)\n",
            "In epoch 1285, loss: 0.87368172, val acc: 0.46333334 (best 0.46333334), test acc: 0.49111113 (best 0.49111113)\n",
            "In epoch 1290, loss: 0.86721528, val acc: 0.46333334 (best 0.46333334), test acc: 0.49111113 (best 0.49111113)\n",
            "In epoch 1295, loss: 0.86086041, val acc: 0.46333334 (best 0.46333334), test acc: 0.49111113 (best 0.49111113)\n",
            "In epoch 1300, loss: 0.85461879, val acc: 0.46333334 (best 0.46333334), test acc: 0.49111113 (best 0.49111113)\n",
            "In epoch 1305, loss: 0.84849179, val acc: 0.46333334 (best 0.46333334), test acc: 0.49111113 (best 0.49111113)\n",
            "In epoch 1310, loss: 0.84248132, val acc: 0.46333334 (best 0.46333334), test acc: 0.49111113 (best 0.49111113)\n",
            "In epoch 1315, loss: 0.83658868, val acc: 0.46333334 (best 0.46333334), test acc: 0.49111113 (best 0.49111113)\n",
            "In epoch 1320, loss: 0.83081329, val acc: 0.46333334 (best 0.46333334), test acc: 0.49111113 (best 0.49111113)\n",
            "In epoch 1325, loss: 0.82515723, val acc: 0.46333334 (best 0.46333334), test acc: 0.49111113 (best 0.49111113)\n",
            "In epoch 1330, loss: 0.81962103, val acc: 0.46666667 (best 0.46666667), test acc: 0.49111113 (best 0.49111113)\n",
            "In epoch 1335, loss: 0.81420624, val acc: 0.46333334 (best 0.46666667), test acc: 0.49111113 (best 0.49111113)\n",
            "In epoch 1340, loss: 0.80891365, val acc: 0.46333334 (best 0.46666667), test acc: 0.49111113 (best 0.49111113)\n",
            "In epoch 1345, loss: 0.80374485, val acc: 0.46333334 (best 0.46666667), test acc: 0.49111113 (best 0.49111113)\n",
            "In epoch 1350, loss: 0.79870045, val acc: 0.46333334 (best 0.46666667), test acc: 0.49111113 (best 0.49111113)\n",
            "In epoch 1355, loss: 0.79378164, val acc: 0.46333334 (best 0.46666667), test acc: 0.49111113 (best 0.49111113)\n",
            "In epoch 1360, loss: 0.78898907, val acc: 0.46333334 (best 0.46666667), test acc: 0.49111113 (best 0.49111113)\n",
            "In epoch 1365, loss: 0.78432381, val acc: 0.46333334 (best 0.46666667), test acc: 0.49111113 (best 0.49111113)\n",
            "In epoch 1370, loss: 0.77978694, val acc: 0.46333334 (best 0.46666667), test acc: 0.49111113 (best 0.49111113)\n",
            "In epoch 1375, loss: 0.77537930, val acc: 0.46333334 (best 0.46666667), test acc: 0.48888889 (best 0.49111113)\n",
            "In epoch 1380, loss: 0.77110213, val acc: 0.46333334 (best 0.46666667), test acc: 0.49111113 (best 0.49111113)\n",
            "In epoch 1385, loss: 0.76695681, val acc: 0.46666667 (best 0.46666667), test acc: 0.49111113 (best 0.49111113)\n",
            "In epoch 1390, loss: 0.76294398, val acc: 0.46666667 (best 0.46666667), test acc: 0.48888889 (best 0.49111113)\n",
            "In epoch 1395, loss: 0.75906450, val acc: 0.46666667 (best 0.46666667), test acc: 0.48888889 (best 0.49111113)\n",
            "In epoch 1400, loss: 0.75531918, val acc: 0.46666667 (best 0.46666667), test acc: 0.48888889 (best 0.49111113)\n",
            "In epoch 1405, loss: 0.75171036, val acc: 0.46666667 (best 0.46666667), test acc: 0.48888889 (best 0.49111113)\n",
            "In epoch 1410, loss: 0.74823725, val acc: 0.46666667 (best 0.46666667), test acc: 0.49111113 (best 0.49111113)\n",
            "In epoch 1415, loss: 0.74490058, val acc: 0.46666667 (best 0.46666667), test acc: 0.49333334 (best 0.49111113)\n",
            "In epoch 1420, loss: 0.74170095, val acc: 0.47000000 (best 0.47000000), test acc: 0.49555558 (best 0.49555558)\n",
            "In epoch 1425, loss: 0.73863846, val acc: 0.47000000 (best 0.47000000), test acc: 0.49555558 (best 0.49555558)\n",
            "In epoch 1430, loss: 0.73571384, val acc: 0.46666667 (best 0.47000000), test acc: 0.49777779 (best 0.49555558)\n",
            "In epoch 1435, loss: 0.73292834, val acc: 0.46666667 (best 0.47333336), test acc: 0.50222224 (best 0.50222224)\n",
            "In epoch 1440, loss: 0.73028266, val acc: 0.47000000 (best 0.47333336), test acc: 0.50666666 (best 0.50222224)\n",
            "In epoch 1445, loss: 0.72777808, val acc: 0.46666667 (best 0.47333336), test acc: 0.51333332 (best 0.50222224)\n",
            "In epoch 1450, loss: 0.72541428, val acc: 0.47333336 (best 0.47333336), test acc: 0.51111114 (best 0.50222224)\n",
            "In epoch 1455, loss: 0.72319055, val acc: 0.47666669 (best 0.47666669), test acc: 0.50888890 (best 0.50888890)\n",
            "In epoch 1460, loss: 0.72110832, val acc: 0.47666669 (best 0.47666669), test acc: 0.50888890 (best 0.50888890)\n",
            "In epoch 1465, loss: 0.71916825, val acc: 0.49000001 (best 0.49000001), test acc: 0.51111114 (best 0.51111114)\n",
            "In epoch 1470, loss: 0.71737033, val acc: 0.50000000 (best 0.50000000), test acc: 0.51333332 (best 0.51333332)\n",
            "In epoch 1475, loss: 0.71571398, val acc: 0.49666667 (best 0.50000000), test acc: 0.52000004 (best 0.51333332)\n",
            "In epoch 1480, loss: 0.71419996, val acc: 0.49333334 (best 0.50000000), test acc: 0.52444446 (best 0.51333332)\n",
            "In epoch 1485, loss: 0.71282810, val acc: 0.49333334 (best 0.50000000), test acc: 0.52222222 (best 0.51333332)\n",
            "In epoch 1490, loss: 0.71159834, val acc: 0.50000000 (best 0.50333333), test acc: 0.52888888 (best 0.53111112)\n",
            "In epoch 1495, loss: 0.71051061, val acc: 0.50000000 (best 0.50333333), test acc: 0.51777780 (best 0.53111112)\n",
            "In epoch 1500, loss: 0.70956433, val acc: 0.50666666 (best 0.50666666), test acc: 0.50888890 (best 0.51555556)\n",
            "In epoch 1505, loss: 0.70875949, val acc: 0.50666666 (best 0.50666666), test acc: 0.49333334 (best 0.51555556)\n",
            "In epoch 1510, loss: 0.70809531, val acc: 0.49666667 (best 0.50666666), test acc: 0.50000000 (best 0.51555556)\n",
            "In epoch 1515, loss: 0.70757025, val acc: 0.49333334 (best 0.50666666), test acc: 0.49333334 (best 0.51555556)\n",
            "In epoch 1520, loss: 0.70718294, val acc: 0.48666668 (best 0.50666666), test acc: 0.50000000 (best 0.51555556)\n",
            "In epoch 1525, loss: 0.70692796, val acc: 0.49666667 (best 0.50666666), test acc: 0.50222224 (best 0.51555556)\n",
            "In epoch 1530, loss: 0.70679271, val acc: 0.49333334 (best 0.50666666), test acc: 0.49777779 (best 0.51555556)\n",
            "In epoch 1535, loss: 0.70673621, val acc: 0.50000000 (best 0.50666666), test acc: 0.50444448 (best 0.51555556)\n",
            "In epoch 1540, loss: 0.70668882, val acc: 0.49666667 (best 0.50666666), test acc: 0.50666666 (best 0.51555556)\n",
            "In epoch 1545, loss: 0.70663428, val acc: 0.49666667 (best 0.50666666), test acc: 0.50444448 (best 0.51555556)\n",
            "In epoch 1550, loss: 0.70657736, val acc: 0.49666667 (best 0.50666666), test acc: 0.50666666 (best 0.51555556)\n",
            "In epoch 1555, loss: 0.70651960, val acc: 0.49666667 (best 0.50666666), test acc: 0.50888890 (best 0.51555556)\n",
            "In epoch 1560, loss: 0.70646161, val acc: 0.49666667 (best 0.50666666), test acc: 0.50888890 (best 0.51555556)\n",
            "In epoch 1565, loss: 0.70640385, val acc: 0.49666667 (best 0.50666666), test acc: 0.50888890 (best 0.51555556)\n",
            "In epoch 1570, loss: 0.70634621, val acc: 0.49666667 (best 0.50666666), test acc: 0.50888890 (best 0.51555556)\n",
            "In epoch 1575, loss: 0.70628870, val acc: 0.49666667 (best 0.50666666), test acc: 0.50888890 (best 0.51555556)\n",
            "In epoch 1580, loss: 0.70623112, val acc: 0.49333334 (best 0.50666666), test acc: 0.50888890 (best 0.51555556)\n",
            "In epoch 1585, loss: 0.70617372, val acc: 0.49666667 (best 0.50666666), test acc: 0.50888890 (best 0.51555556)\n",
            "In epoch 1590, loss: 0.70611650, val acc: 0.49666667 (best 0.50666666), test acc: 0.50888890 (best 0.51555556)\n",
            "In epoch 1595, loss: 0.70605934, val acc: 0.49666667 (best 0.50666666), test acc: 0.50888890 (best 0.51555556)\n",
            "In epoch 1600, loss: 0.70600235, val acc: 0.49666667 (best 0.50666666), test acc: 0.50888890 (best 0.51555556)\n",
            "In epoch 1605, loss: 0.70594537, val acc: 0.49666667 (best 0.50666666), test acc: 0.50666666 (best 0.51555556)\n",
            "In epoch 1610, loss: 0.70588869, val acc: 0.49666667 (best 0.50666666), test acc: 0.50666666 (best 0.51555556)\n",
            "In epoch 1615, loss: 0.70583212, val acc: 0.49666667 (best 0.50666666), test acc: 0.50444448 (best 0.51555556)\n",
            "In epoch 1620, loss: 0.70577532, val acc: 0.49666667 (best 0.50666666), test acc: 0.50444448 (best 0.51555556)\n",
            "In epoch 1625, loss: 0.70571893, val acc: 0.49666667 (best 0.50666666), test acc: 0.50444448 (best 0.51555556)\n",
            "In epoch 1630, loss: 0.70566261, val acc: 0.49666667 (best 0.50666666), test acc: 0.50444448 (best 0.51555556)\n",
            "In epoch 1635, loss: 0.70560646, val acc: 0.49666667 (best 0.50666666), test acc: 0.50444448 (best 0.51555556)\n",
            "In epoch 1640, loss: 0.70555025, val acc: 0.49666667 (best 0.50666666), test acc: 0.50444448 (best 0.51555556)\n",
            "In epoch 1645, loss: 0.70549423, val acc: 0.49666667 (best 0.50666666), test acc: 0.50444448 (best 0.51555556)\n",
            "In epoch 1650, loss: 0.70543855, val acc: 0.49666667 (best 0.50666666), test acc: 0.50444448 (best 0.51555556)\n",
            "In epoch 1655, loss: 0.70538253, val acc: 0.49666667 (best 0.50666666), test acc: 0.50444448 (best 0.51555556)\n",
            "In epoch 1660, loss: 0.70532697, val acc: 0.49666667 (best 0.50666666), test acc: 0.50444448 (best 0.51555556)\n",
            "In epoch 1665, loss: 0.70527160, val acc: 0.49666667 (best 0.50666666), test acc: 0.50444448 (best 0.51555556)\n",
            "In epoch 1670, loss: 0.70521617, val acc: 0.49666667 (best 0.50666666), test acc: 0.50444448 (best 0.51555556)\n",
            "In epoch 1675, loss: 0.70516086, val acc: 0.49666667 (best 0.50666666), test acc: 0.50444448 (best 0.51555556)\n",
            "In epoch 1680, loss: 0.70510554, val acc: 0.49666667 (best 0.50666666), test acc: 0.50444448 (best 0.51555556)\n",
            "In epoch 1685, loss: 0.70505059, val acc: 0.49666667 (best 0.50666666), test acc: 0.50444448 (best 0.51555556)\n",
            "In epoch 1690, loss: 0.70499563, val acc: 0.49666667 (best 0.50666666), test acc: 0.50222224 (best 0.51555556)\n",
            "In epoch 1695, loss: 0.70494080, val acc: 0.49666667 (best 0.50666666), test acc: 0.50222224 (best 0.51555556)\n",
            "In epoch 1700, loss: 0.70488596, val acc: 0.49666667 (best 0.50666666), test acc: 0.50222224 (best 0.51555556)\n",
            "In epoch 1705, loss: 0.70483136, val acc: 0.49666667 (best 0.50666666), test acc: 0.50222224 (best 0.51555556)\n",
            "In epoch 1710, loss: 0.70477694, val acc: 0.49666667 (best 0.50666666), test acc: 0.50222224 (best 0.51555556)\n",
            "In epoch 1715, loss: 0.70472252, val acc: 0.49333334 (best 0.50666666), test acc: 0.50222224 (best 0.51555556)\n",
            "In epoch 1720, loss: 0.70466834, val acc: 0.49000001 (best 0.50666666), test acc: 0.50222224 (best 0.51555556)\n",
            "In epoch 1725, loss: 0.70461428, val acc: 0.49000001 (best 0.50666666), test acc: 0.50000000 (best 0.51555556)\n",
            "In epoch 1730, loss: 0.70456034, val acc: 0.49000001 (best 0.50666666), test acc: 0.50000000 (best 0.51555556)\n",
            "In epoch 1735, loss: 0.70450634, val acc: 0.49000001 (best 0.50666666), test acc: 0.50000000 (best 0.51555556)\n",
            "In epoch 1740, loss: 0.70445257, val acc: 0.49000001 (best 0.50666666), test acc: 0.49777779 (best 0.51555556)\n",
            "In epoch 1745, loss: 0.70439899, val acc: 0.49000001 (best 0.50666666), test acc: 0.49777779 (best 0.51555556)\n",
            "In epoch 1750, loss: 0.70434558, val acc: 0.49000001 (best 0.50666666), test acc: 0.49555558 (best 0.51555556)\n",
            "In epoch 1755, loss: 0.70429218, val acc: 0.49000001 (best 0.50666666), test acc: 0.49555558 (best 0.51555556)\n",
            "In epoch 1760, loss: 0.70423895, val acc: 0.49000001 (best 0.50666666), test acc: 0.49555558 (best 0.51555556)\n",
            "In epoch 1765, loss: 0.70418578, val acc: 0.49000001 (best 0.50666666), test acc: 0.49555558 (best 0.51555556)\n",
            "In epoch 1770, loss: 0.70413274, val acc: 0.49000001 (best 0.50666666), test acc: 0.49555558 (best 0.51555556)\n",
            "In epoch 1775, loss: 0.70407987, val acc: 0.49333334 (best 0.50666666), test acc: 0.49555558 (best 0.51555556)\n",
            "In epoch 1780, loss: 0.70402694, val acc: 0.49333334 (best 0.50666666), test acc: 0.49555558 (best 0.51555556)\n",
            "In epoch 1785, loss: 0.70397443, val acc: 0.49333334 (best 0.50666666), test acc: 0.49555558 (best 0.51555556)\n",
            "In epoch 1790, loss: 0.70392203, val acc: 0.49333334 (best 0.50666666), test acc: 0.49555558 (best 0.51555556)\n",
            "In epoch 1795, loss: 0.70386952, val acc: 0.49333334 (best 0.50666666), test acc: 0.49555558 (best 0.51555556)\n",
            "In epoch 1800, loss: 0.70381731, val acc: 0.49333334 (best 0.50666666), test acc: 0.49555558 (best 0.51555556)\n",
            "In epoch 1805, loss: 0.70376509, val acc: 0.49333334 (best 0.50666666), test acc: 0.49555558 (best 0.51555556)\n",
            "In epoch 1810, loss: 0.70371306, val acc: 0.49333334 (best 0.50666666), test acc: 0.49555558 (best 0.51555556)\n",
            "In epoch 1815, loss: 0.70366114, val acc: 0.49333334 (best 0.50666666), test acc: 0.49555558 (best 0.51555556)\n",
            "In epoch 1820, loss: 0.70360935, val acc: 0.49333334 (best 0.50666666), test acc: 0.49777779 (best 0.51555556)\n",
            "In epoch 1825, loss: 0.70355773, val acc: 0.49333334 (best 0.50666666), test acc: 0.49777779 (best 0.51555556)\n",
            "In epoch 1830, loss: 0.70350611, val acc: 0.49333334 (best 0.50666666), test acc: 0.49777779 (best 0.51555556)\n",
            "In epoch 1835, loss: 0.70345455, val acc: 0.49333334 (best 0.50666666), test acc: 0.49777779 (best 0.51555556)\n",
            "In epoch 1840, loss: 0.70340329, val acc: 0.49333334 (best 0.50666666), test acc: 0.49777779 (best 0.51555556)\n",
            "In epoch 1845, loss: 0.70335221, val acc: 0.49333334 (best 0.50666666), test acc: 0.49777779 (best 0.51555556)\n",
            "In epoch 1850, loss: 0.70330113, val acc: 0.49333334 (best 0.50666666), test acc: 0.49777779 (best 0.51555556)\n",
            "In epoch 1855, loss: 0.70325011, val acc: 0.49666667 (best 0.50666666), test acc: 0.49777779 (best 0.51555556)\n",
            "In epoch 1860, loss: 0.70319921, val acc: 0.49666667 (best 0.50666666), test acc: 0.49777779 (best 0.51555556)\n",
            "In epoch 1865, loss: 0.70314866, val acc: 0.49666667 (best 0.50666666), test acc: 0.49777779 (best 0.51555556)\n",
            "In epoch 1870, loss: 0.70309794, val acc: 0.49333334 (best 0.50666666), test acc: 0.49777779 (best 0.51555556)\n",
            "In epoch 1875, loss: 0.70304757, val acc: 0.49333334 (best 0.50666666), test acc: 0.49777779 (best 0.51555556)\n",
            "In epoch 1880, loss: 0.70299703, val acc: 0.49333334 (best 0.50666666), test acc: 0.49777779 (best 0.51555556)\n",
            "In epoch 1885, loss: 0.70294684, val acc: 0.49333334 (best 0.50666666), test acc: 0.49777779 (best 0.51555556)\n",
            "In epoch 1890, loss: 0.70289677, val acc: 0.49333334 (best 0.50666666), test acc: 0.49777779 (best 0.51555556)\n",
            "In epoch 1895, loss: 0.70284683, val acc: 0.49333334 (best 0.50666666), test acc: 0.49777779 (best 0.51555556)\n",
            "In epoch 1900, loss: 0.70279694, val acc: 0.49333334 (best 0.50666666), test acc: 0.49777779 (best 0.51555556)\n",
            "In epoch 1905, loss: 0.70274717, val acc: 0.49666667 (best 0.50666666), test acc: 0.49777779 (best 0.51555556)\n",
            "In epoch 1910, loss: 0.70269769, val acc: 0.49666667 (best 0.50666666), test acc: 0.49777779 (best 0.51555556)\n",
            "In epoch 1915, loss: 0.70264816, val acc: 0.49666667 (best 0.50666666), test acc: 0.49777779 (best 0.51555556)\n",
            "In epoch 1920, loss: 0.70259857, val acc: 0.49666667 (best 0.50666666), test acc: 0.50000000 (best 0.51555556)\n",
            "In epoch 1925, loss: 0.70254940, val acc: 0.49666667 (best 0.50666666), test acc: 0.50000000 (best 0.51555556)\n",
            "In epoch 1930, loss: 0.70250034, val acc: 0.49666667 (best 0.50666666), test acc: 0.50000000 (best 0.51555556)\n",
            "In epoch 1935, loss: 0.70245123, val acc: 0.49666667 (best 0.50666666), test acc: 0.50000000 (best 0.51555556)\n",
            "In epoch 1940, loss: 0.70240235, val acc: 0.49666667 (best 0.50666666), test acc: 0.50000000 (best 0.51555556)\n",
            "In epoch 1945, loss: 0.70235366, val acc: 0.49666667 (best 0.50666666), test acc: 0.50000000 (best 0.51555556)\n",
            "In epoch 1950, loss: 0.70230496, val acc: 0.49666667 (best 0.50666666), test acc: 0.50222224 (best 0.51555556)\n",
            "In epoch 1955, loss: 0.70225656, val acc: 0.49666667 (best 0.50666666), test acc: 0.50222224 (best 0.51555556)\n",
            "In epoch 1960, loss: 0.70220804, val acc: 0.49666667 (best 0.50666666), test acc: 0.50222224 (best 0.51555556)\n",
            "In epoch 1965, loss: 0.70215964, val acc: 0.49666667 (best 0.50666666), test acc: 0.50000000 (best 0.51555556)\n",
            "In epoch 1970, loss: 0.70211154, val acc: 0.49666667 (best 0.50666666), test acc: 0.50000000 (best 0.51555556)\n",
            "In epoch 1975, loss: 0.70206356, val acc: 0.49666667 (best 0.50666666), test acc: 0.50000000 (best 0.51555556)\n",
            "In epoch 1980, loss: 0.70201576, val acc: 0.49666667 (best 0.50666666), test acc: 0.50222224 (best 0.51555556)\n",
            "In epoch 1985, loss: 0.70196801, val acc: 0.49666667 (best 0.50666666), test acc: 0.50000000 (best 0.51555556)\n",
            "In epoch 1990, loss: 0.70192033, val acc: 0.49666667 (best 0.50666666), test acc: 0.50000000 (best 0.51555556)\n",
            "In epoch 1995, loss: 0.70187271, val acc: 0.49666667 (best 0.50666666), test acc: 0.50000000 (best 0.51555556)\n"
          ],
          "name": "stdout"
        }
      ]
    },
    {
      "cell_type": "code",
      "metadata": {
        "colab": {
          "base_uri": "https://localhost:8080/",
          "height": 312
        },
        "id": "M3wPaYz6r61I",
        "outputId": "e7232a68-e4ae-4ff1-c437-ccf7ce3fcd81"
      },
      "source": [
        "import matplotlib.pyplot as plt\n",
        "\n",
        "plt.plot(node_classification_losses, 'b^-')\n",
        "plt.xlabel('Epochs')\n",
        "plt.ylabel('Losses')\n",
        "plt.grid()\n",
        "plt.title('Loss for Node Classification')"
      ],
      "execution_count": 39,
      "outputs": [
        {
          "output_type": "execute_result",
          "data": {
            "text/plain": [
              "Text(0.5, 1.0, 'Loss for Node Classification')"
            ]
          },
          "metadata": {
            "tags": []
          },
          "execution_count": 39
        },
        {
          "output_type": "display_data",
          "data": {
            "image/png": "[encoded data removed]",
            "text/plain": [
              "<Figure size 432x288 with 1 Axes>"
            ]
          },
          "metadata": {
            "tags": [],
            "needs_background": "light"
          }
        }
      ]
    },
    {
      "cell_type": "code",
      "metadata": {
        "colab": {
          "base_uri": "https://localhost:8080/",
          "height": 312
        },
        "id": "dSvUJV6atGTW",
        "outputId": "175c5465-bbd8-4c44-f60d-c9bf517fd315"
      },
      "source": [
        "plt.plot(node_classifications_accuracy['train'], 'r-')\n",
        "plt.plot(node_classifications_accuracy['test'], 'b-')\n",
        "plt.xlabel('Epochs')\n",
        "plt.ylabel('Accuracy')\n",
        "plt.grid()\n",
        "plt.title('Accuracies for Node Classification')"
      ],
      "execution_count": 40,
      "outputs": [
        {
          "output_type": "execute_result",
          "data": {
            "text/plain": [
              "Text(0.5, 1.0, 'Accuracies for Node Classification')"
            ]
          },
          "metadata": {
            "tags": []
          },
          "execution_count": 40
        },
        {
          "output_type": "display_data",
          "data": {
            "image/png": "[encoded data removed]",
            "text/plain": [
              "<Figure size 432x288 with 1 Axes>"
            ]
          },
          "metadata": {
            "tags": [],
            "needs_background": "light"
          }
        }
      ]
    },
    {
      "cell_type": "markdown",
      "metadata": {
        "id": "1IG_aw9qtv1Y"
      },
      "source": [
        "#### **Graph Classification**"
      ]
    },
    {
      "cell_type": "code",
      "metadata": {
        "id": "YkPwc3MBtxXV"
      },
      "source": [
        "class GraphDataset(dgl.data.DGLDataset):\n",
        "  def __init__(self):\n",
        "    super().__init__(name=\"Graph Architecture\") \n",
        "    self.num_classes = 2\n",
        "    self.dim_nfeats = 4\n",
        "  \n",
        "  def process(self):\n",
        "    self.graphs = []\n",
        "    self.labels = []\n",
        "\n",
        "    num_examples = len(x_train_red)\n",
        "    num_train = int(num_examples * 0.75)\n",
        "    num_val = int(num_examples * 0.1)\n",
        "\n",
        "    train_mask = torch.zeros(num_examples, dtype=torch.bool)\n",
        "    val_mask = torch.zeros(num_examples, dtype=torch.bool)\n",
        "    test_mask = torch.zeros(num_examples, dtype=torch.bool)\n",
        "\n",
        "    train_mask[:num_train] = True\n",
        "    val_mask[num_train:num_train+num_val] = True\n",
        "    test_mask[num_train+num_val:] = True\n",
        "    \n",
        "    self.train_mask = train_mask\n",
        "    self.test_mask = test_mask\n",
        "    self.val_mask = val_mask \n",
        "\n",
        "    for id in range(len(x_train_red)):\n",
        "      g = dgl.from_networkx(nx.generators.fast_gnp_random_graph(20, p=0.6))\n",
        "      g.ndata['features'] = torch.from_numpy(np.repeat(x_train_red[id].reshape(1,4),20,0))\n",
        "      g.ndata['label'] = torch.LongTensor([y_train_red[id]]*20)\n",
        "      self.graphs.append(g)\n",
        "      self.labels.append(y_train_red[id])\n",
        "    \n",
        "    self.labels = torch.LongTensor(self.labels)\n",
        "\n",
        "  def __getitem__(self, idx):\n",
        "    return self.graphs[idx], self.labels[idx]\n",
        "\n",
        "  def __len__(self):\n",
        "    return len(self.graphs)"
      ],
      "execution_count": 23,
      "outputs": []
    },
    {
      "cell_type": "code",
      "metadata": {
        "colab": {
          "base_uri": "https://localhost:8080/"
        },
        "id": "RntQJU4guJuW",
        "outputId": "274b7062-5690-4181-9b29-ff739731cb3f"
      },
      "source": [
        "graph_classification_data = GraphDataset()\n",
        "g_sample, label_sample = graph_classification_data[0]\n",
        "print(g_sample, label_sample)"
      ],
      "execution_count": 25,
      "outputs": [
        {
          "output_type": "stream",
          "text": [
            "Graph(num_nodes=20, num_edges=226,\n",
            "      ndata_schemes={'feat': Scheme(shape=(4,), dtype=torch.float32), 'label': Scheme(shape=(), dtype=torch.int64)}\n",
            "      edata_schemes={}) tensor(0)\n"
          ],
          "name": "stdout"
        }
      ]
    },
    {
      "cell_type": "code",
      "metadata": {
        "id": "UJlGEFNruQ6b"
      },
      "source": [
        "from dgl.dataloading import GraphDataLoader\n",
        "from torch.utils.data.sampler import SubsetRandomSampler\n",
        "\n",
        "num_examples = len(graph_classification_data)\n",
        "num_train = int(num_examples * 0.75)\n",
        "num_val = int(num_examples * 0.1)\n",
        "\n",
        "train_sampler = SubsetRandomSampler(torch.arange(num_train))\n",
        "val_sampler = SubsetRandomSampler(torch.arange(num_train, num_train+num_val))\n",
        "test_sampler = SubsetRandomSampler(torch.arange(num_train+num_val, num_examples))\n",
        "\n",
        "train_dataloader = GraphDataLoader(graph_classification_data, sampler=train_sampler, batch_size=5, drop_last=False)\n",
        "val_dataloader = GraphDataLoader(graph_classification_data, sampler=val_sampler, batch_size=5, drop_last=False)\n",
        "test_dataloader = GraphDataLoader(graph_classification_data, sampler=test_sampler, batch_size=5, drop_last=False)"
      ],
      "execution_count": 30,
      "outputs": []
    },
    {
      "cell_type": "code",
      "metadata": {
        "id": "-k3Qjp40uhNH"
      },
      "source": [
        "it = iter(train_dataloader)\n",
        "batch = next(it)\n",
        "batched_graph, labels = batch\n",
        "graphs = dgl.unbatch(batched_graph)"
      ],
      "execution_count": 31,
      "outputs": []
    },
    {
      "cell_type": "code",
      "metadata": {
        "id": "_7dQNOzMu1fK"
      },
      "source": [
        "from dgl.nn import GraphConv\n",
        "\n",
        "class GraphClassificationModel(torch.nn.Module):\n",
        "  def __init__(self, in_feats, num_classes):\n",
        "    super(GraphClassificationModel, self).__init__()\n",
        "    self.conv1 = GraphConv(in_feats, 16)\n",
        "    self.conv2 = GraphConv(16, 32)\n",
        "    self.conv3 = GraphConv(32, num_classes)\n",
        "\n",
        "  def forward(self, g, in_feat):\n",
        "    h = self.conv1(g, in_feat)\n",
        "    h = torch.nn.functional.relu(h)\n",
        "    h = self.conv2(g, h)\n",
        "    h = torch.nn.functional.relu(h)\n",
        "    h = self.conv3(g, h)\n",
        "    g.ndata['h'] = h\n",
        "    return dgl.mean_nodes(g, 'h')"
      ],
      "execution_count": 34,
      "outputs": []
    },
    {
      "cell_type": "code",
      "metadata": {
        "id": "93Yik7w6u110"
      },
      "source": [
        "graph_classification_model = GraphClassificationModel(graph_classification_data.dim_nfeats, graph_classification_data.num_classes)"
      ],
      "execution_count": 35,
      "outputs": []
    },
    {
      "cell_type": "code",
      "metadata": {
        "id": "qpRsOpncu-np"
      },
      "source": [
        "def train(train_loader, val_loader, test_loader, model, num_epochs):\n",
        "  losses = []\n",
        "  accs = {'train':[], 'val': [], 'test': []}\n",
        "  optimizer = torch.optim.Adam(model.parameters(), lr=0.01, betas=(0.9, 0.9999))\n",
        "  best_val_acc = 0.0\n",
        "  best_test_acc = 0.0\n",
        "\n",
        "  for e in range(num_epochs):\n",
        "    train_acc_batch = []\n",
        "    val_acc_batch = []\n",
        "    test_acc_batch = []\n",
        "    train_loss_batch = []\n",
        "    for batched_graph, labels in train_loader:\n",
        "      model.train()\n",
        "      batched_graph, labels = batched_graph.to('cuda'), labels.to('cuda')\n",
        "      logits = model(batched_graph, batched_graph.ndata['features'].float())\n",
        "      pred = logits.argmax(1)\n",
        "      loss = torch.nn.functional.cross_entropy(logits, labels)\n",
        "      train_loss_batch.append(loss)\n",
        "      train_acc = (pred == labels).float().mean()\n",
        "      train_acc_batch.append(train_acc)\n",
        "      with torch.no_grad():  \n",
        "        optimizer.zero_grad()\n",
        "        loss.backward()\n",
        "        optimizer.step()\n",
        "    accs['train'].append(sum(train_acc_batch) / len(train_acc_batch))\n",
        "    losses.append(sum(train_loss_batch) / len(train_loss_batch))\n",
        "\n",
        "    model.eval()\n",
        "    for batched_graph_val, labels_val in val_loader:\n",
        "      batched_graph_val, labels_val = batched_graph_val.to('cuda'), labels_val.to('cuda')\n",
        "      logits_val = model(batched_graph_val, batched_graph_val.ndata['features'].float())\n",
        "      pred_val = logits_val.argmax(1)\n",
        "      val_acc = (pred_val == labels_val).float().mean()\n",
        "      val_acc_batch.append(val_acc)\n",
        "    accs['val'].append(sum(val_acc_batch) / len(val_acc_batch))\n",
        "\n",
        "    for batched_graph_test, labels_test in test_loader:\n",
        "      batched_graph_test, labels_test = batched_graph_test.to('cuda'), labels_test.to('cuda')\n",
        "      logits_test = model(batched_graph_test, batched_graph_test.ndata['features'].float())\n",
        "      pred_test = logits_test.argmax(1)\n",
        "      test_acc = (pred_test == labels_test).float().mean()\n",
        "      test_acc_batch.append(test_acc)\n",
        "    accs['test'].append(sum(test_acc_batch) / len(test_acc_batch))\n",
        "\n",
        "    if best_val_acc < val_acc:\n",
        "      best_val_acc = val_acc\n",
        "      best_test_acc = test_acc\n",
        "\n",
        "    if e % 5 == 0:\n",
        "      print('In epoch {}, loss: {:.8f}, val acc: {:.8f} (best {:.8f}), test acc: {:.8f} (best {:.8f})'.format(\n",
        "                e, loss, val_acc, best_val_acc, test_acc, best_test_acc))\n",
        "  \n",
        "  return losses, accs"
      ],
      "execution_count": 36,
      "outputs": []
    },
    {
      "cell_type": "code",
      "metadata": {
        "colab": {
          "base_uri": "https://localhost:8080/"
        },
        "id": "yoo4vfoXvHAa",
        "outputId": "2b1c8561-4926-42f7-bea9-1b0888ed9ca8"
      },
      "source": [
        "graph_classification_model = graph_classification_model.to('cuda')\n",
        "graph_classification_losses, graph_classification_accuracy = train(train_dataloader, val_dataloader, test_dataloader, graph_classification_model, 500)"
      ],
      "execution_count": 38,
      "outputs": [
        {
          "output_type": "stream",
          "text": [
            "In epoch 0, loss: 0.67577994, val acc: 0.40000001 (best 0.40000001), test acc: 0.40000001 (best 0.40000001)\n",
            "In epoch 5, loss: 0.69448650, val acc: 0.60000002 (best 0.60000002), test acc: 0.40000001 (best 0.60000002)\n",
            "In epoch 10, loss: 0.68635631, val acc: 0.40000001 (best 0.60000002), test acc: 0.40000001 (best 0.60000002)\n",
            "In epoch 15, loss: 0.67699128, val acc: 0.00000000 (best 0.60000002), test acc: 0.40000001 (best 0.60000002)\n",
            "In epoch 20, loss: 0.69123757, val acc: 0.80000001 (best 0.80000001), test acc: 0.80000001 (best 0.60000002)\n",
            "In epoch 25, loss: 0.68830889, val acc: 0.80000001 (best 0.80000001), test acc: 0.40000001 (best 0.60000002)\n",
            "In epoch 30, loss: 0.70023936, val acc: 0.40000001 (best 0.80000001), test acc: 0.40000001 (best 0.60000002)\n",
            "In epoch 35, loss: 0.79623520, val acc: 0.60000002 (best 0.80000001), test acc: 0.80000001 (best 0.60000002)\n",
            "In epoch 40, loss: 0.70936859, val acc: 0.80000001 (best 0.80000001), test acc: 0.40000001 (best 0.60000002)\n",
            "In epoch 45, loss: 0.68674505, val acc: 0.60000002 (best 0.80000001), test acc: 0.60000002 (best 0.60000002)\n",
            "In epoch 50, loss: 0.63505554, val acc: 0.00000000 (best 0.80000001), test acc: 0.20000000 (best 0.60000002)\n",
            "In epoch 55, loss: 0.70397592, val acc: 0.80000001 (best 0.80000001), test acc: 0.80000001 (best 0.60000002)\n",
            "In epoch 60, loss: 0.68758285, val acc: 0.60000002 (best 0.80000001), test acc: 0.60000002 (best 0.60000002)\n",
            "In epoch 65, loss: 0.70478773, val acc: 0.20000000 (best 0.80000001), test acc: 1.00000000 (best 0.60000002)\n",
            "In epoch 70, loss: 0.67893898, val acc: 0.20000000 (best 0.80000001), test acc: 0.80000001 (best 0.60000002)\n",
            "In epoch 75, loss: 0.69477123, val acc: 0.40000001 (best 0.80000001), test acc: 0.40000001 (best 0.60000002)\n",
            "In epoch 80, loss: 0.67839324, val acc: 0.40000001 (best 0.80000001), test acc: 0.60000002 (best 0.60000002)\n",
            "In epoch 85, loss: 0.73782277, val acc: 0.40000001 (best 0.80000001), test acc: 0.40000001 (best 0.60000002)\n",
            "In epoch 90, loss: 0.68699038, val acc: 0.40000001 (best 0.80000001), test acc: 0.20000000 (best 0.60000002)\n",
            "In epoch 95, loss: 0.71024603, val acc: 0.20000000 (best 0.80000001), test acc: 0.60000002 (best 0.60000002)\n",
            "In epoch 100, loss: 0.69833457, val acc: 0.40000001 (best 0.80000001), test acc: 0.60000002 (best 0.60000002)\n",
            "In epoch 105, loss: 0.67647296, val acc: 0.20000000 (best 0.80000001), test acc: 0.60000002 (best 0.60000002)\n",
            "In epoch 110, loss: 0.68768698, val acc: 0.40000001 (best 0.80000001), test acc: 0.60000002 (best 0.60000002)\n",
            "In epoch 115, loss: 0.69264197, val acc: 0.20000000 (best 0.80000001), test acc: 0.40000001 (best 0.60000002)\n",
            "In epoch 120, loss: 0.66266620, val acc: 0.20000000 (best 0.80000001), test acc: 0.00000000 (best 0.60000002)\n",
            "In epoch 125, loss: 0.69318581, val acc: 0.60000002 (best 0.80000001), test acc: 0.20000000 (best 0.60000002)\n",
            "In epoch 130, loss: 0.68244624, val acc: 0.40000001 (best 0.80000001), test acc: 0.40000001 (best 0.60000002)\n",
            "In epoch 135, loss: 0.71183282, val acc: 1.00000000 (best 1.00000000), test acc: 0.40000001 (best 0.40000001)\n",
            "In epoch 140, loss: 0.65510386, val acc: 0.40000001 (best 1.00000000), test acc: 0.80000001 (best 0.40000001)\n",
            "In epoch 145, loss: 0.72822458, val acc: 0.40000001 (best 1.00000000), test acc: 0.60000002 (best 0.40000001)\n",
            "In epoch 150, loss: 0.66977781, val acc: 0.40000001 (best 1.00000000), test acc: 0.40000001 (best 0.40000001)\n",
            "In epoch 155, loss: 0.70720142, val acc: 0.40000001 (best 1.00000000), test acc: 0.60000002 (best 0.40000001)\n",
            "In epoch 160, loss: 0.70156610, val acc: 0.40000001 (best 1.00000000), test acc: 0.20000000 (best 0.40000001)\n",
            "In epoch 165, loss: 0.67496645, val acc: 0.60000002 (best 1.00000000), test acc: 0.00000000 (best 0.40000001)\n",
            "In epoch 170, loss: 0.70087123, val acc: 0.20000000 (best 1.00000000), test acc: 0.20000000 (best 0.40000001)\n",
            "In epoch 175, loss: 0.68199265, val acc: 0.60000002 (best 1.00000000), test acc: 0.40000001 (best 0.40000001)\n",
            "In epoch 180, loss: 0.65206873, val acc: 0.40000001 (best 1.00000000), test acc: 0.60000002 (best 0.40000001)\n",
            "In epoch 185, loss: 0.69518256, val acc: 0.60000002 (best 1.00000000), test acc: 0.00000000 (best 0.40000001)\n",
            "In epoch 190, loss: 0.70555013, val acc: 0.60000002 (best 1.00000000), test acc: 0.40000001 (best 0.40000001)\n",
            "In epoch 195, loss: 0.68680495, val acc: 0.80000001 (best 1.00000000), test acc: 0.60000002 (best 0.40000001)\n",
            "In epoch 200, loss: 0.66546905, val acc: 0.40000001 (best 1.00000000), test acc: 0.40000001 (best 0.40000001)\n",
            "In epoch 205, loss: 0.68768930, val acc: 0.20000000 (best 1.00000000), test acc: 0.60000002 (best 0.40000001)\n",
            "In epoch 210, loss: 0.68512821, val acc: 0.80000001 (best 1.00000000), test acc: 0.80000001 (best 0.40000001)\n",
            "In epoch 215, loss: 0.69060075, val acc: 0.60000002 (best 1.00000000), test acc: 0.40000001 (best 0.40000001)\n",
            "In epoch 220, loss: 0.68505609, val acc: 0.40000001 (best 1.00000000), test acc: 0.60000002 (best 0.40000001)\n",
            "In epoch 225, loss: 0.68870509, val acc: 0.60000002 (best 1.00000000), test acc: 0.20000000 (best 0.40000001)\n",
            "In epoch 230, loss: 0.70645970, val acc: 0.80000001 (best 1.00000000), test acc: 0.60000002 (best 0.40000001)\n",
            "In epoch 235, loss: 0.70617217, val acc: 0.20000000 (best 1.00000000), test acc: 0.40000001 (best 0.40000001)\n",
            "In epoch 240, loss: 0.68833083, val acc: 0.40000001 (best 1.00000000), test acc: 0.20000000 (best 0.40000001)\n",
            "In epoch 245, loss: 0.68474472, val acc: 0.60000002 (best 1.00000000), test acc: 0.60000002 (best 0.40000001)\n",
            "In epoch 250, loss: 0.69912922, val acc: 0.60000002 (best 1.00000000), test acc: 0.40000001 (best 0.40000001)\n",
            "In epoch 255, loss: 0.69727397, val acc: 0.40000001 (best 1.00000000), test acc: 0.60000002 (best 0.40000001)\n",
            "In epoch 260, loss: 0.64277667, val acc: 0.80000001 (best 1.00000000), test acc: 0.40000001 (best 0.40000001)\n",
            "In epoch 265, loss: 0.70709860, val acc: 0.80000001 (best 1.00000000), test acc: 1.00000000 (best 0.40000001)\n",
            "In epoch 270, loss: 0.69837826, val acc: 0.40000001 (best 1.00000000), test acc: 0.60000002 (best 0.40000001)\n",
            "In epoch 275, loss: 0.64463085, val acc: 0.20000000 (best 1.00000000), test acc: 0.40000001 (best 0.40000001)\n",
            "In epoch 280, loss: 0.70620722, val acc: 0.40000001 (best 1.00000000), test acc: 0.20000000 (best 0.40000001)\n",
            "In epoch 285, loss: 0.76791191, val acc: 0.40000001 (best 1.00000000), test acc: 0.20000000 (best 0.40000001)\n",
            "In epoch 290, loss: 0.72650403, val acc: 0.40000001 (best 1.00000000), test acc: 0.20000000 (best 0.40000001)\n",
            "In epoch 295, loss: 0.67555010, val acc: 0.60000002 (best 1.00000000), test acc: 0.20000000 (best 0.40000001)\n",
            "In epoch 300, loss: 0.72846013, val acc: 0.40000001 (best 1.00000000), test acc: 0.60000002 (best 0.40000001)\n",
            "In epoch 305, loss: 0.64777088, val acc: 0.40000001 (best 1.00000000), test acc: 0.40000001 (best 0.40000001)\n",
            "In epoch 310, loss: 0.64812893, val acc: 0.40000001 (best 1.00000000), test acc: 0.20000000 (best 0.40000001)\n",
            "In epoch 315, loss: 0.69109744, val acc: 0.80000001 (best 1.00000000), test acc: 0.80000001 (best 0.40000001)\n",
            "In epoch 320, loss: 0.68962383, val acc: 0.20000000 (best 1.00000000), test acc: 0.80000001 (best 0.40000001)\n",
            "In epoch 325, loss: 0.71320719, val acc: 0.60000002 (best 1.00000000), test acc: 0.20000000 (best 0.40000001)\n",
            "In epoch 330, loss: 0.63506198, val acc: 0.60000002 (best 1.00000000), test acc: 0.20000000 (best 0.40000001)\n",
            "In epoch 335, loss: 0.68648732, val acc: 0.40000001 (best 1.00000000), test acc: 0.20000000 (best 0.40000001)\n",
            "In epoch 340, loss: 0.70900792, val acc: 0.20000000 (best 1.00000000), test acc: 0.20000000 (best 0.40000001)\n",
            "In epoch 345, loss: 0.68404567, val acc: 0.60000002 (best 1.00000000), test acc: 0.60000002 (best 0.40000001)\n",
            "In epoch 350, loss: 0.71253681, val acc: 0.80000001 (best 1.00000000), test acc: 0.40000001 (best 0.40000001)\n",
            "In epoch 355, loss: 0.68663502, val acc: 0.40000001 (best 1.00000000), test acc: 0.20000000 (best 0.40000001)\n",
            "In epoch 360, loss: 0.68740988, val acc: 0.60000002 (best 1.00000000), test acc: 0.20000000 (best 0.40000001)\n",
            "In epoch 365, loss: 0.71106493, val acc: 0.60000002 (best 1.00000000), test acc: 0.60000002 (best 0.40000001)\n",
            "In epoch 370, loss: 0.69275790, val acc: 0.20000000 (best 1.00000000), test acc: 0.80000001 (best 0.40000001)\n",
            "In epoch 375, loss: 0.69451153, val acc: 0.20000000 (best 1.00000000), test acc: 0.40000001 (best 0.40000001)\n",
            "In epoch 380, loss: 0.69014728, val acc: 0.20000000 (best 1.00000000), test acc: 0.80000001 (best 0.40000001)\n",
            "In epoch 385, loss: 0.71890581, val acc: 0.40000001 (best 1.00000000), test acc: 0.40000001 (best 0.40000001)\n",
            "In epoch 390, loss: 0.71381247, val acc: 0.40000001 (best 1.00000000), test acc: 0.20000000 (best 0.40000001)\n",
            "In epoch 395, loss: 0.71063590, val acc: 0.60000002 (best 1.00000000), test acc: 0.20000000 (best 0.40000001)\n",
            "In epoch 400, loss: 0.66058022, val acc: 0.40000001 (best 1.00000000), test acc: 0.40000001 (best 0.40000001)\n",
            "In epoch 405, loss: 0.71569383, val acc: 0.40000001 (best 1.00000000), test acc: 0.60000002 (best 0.40000001)\n",
            "In epoch 410, loss: 0.69868422, val acc: 0.40000001 (best 1.00000000), test acc: 0.80000001 (best 0.40000001)\n",
            "In epoch 415, loss: 0.64347655, val acc: 0.60000002 (best 1.00000000), test acc: 0.20000000 (best 0.40000001)\n",
            "In epoch 420, loss: 0.69846326, val acc: 0.40000001 (best 1.00000000), test acc: 0.60000002 (best 0.40000001)\n",
            "In epoch 425, loss: 0.69185573, val acc: 0.80000001 (best 1.00000000), test acc: 0.40000001 (best 0.40000001)\n",
            "In epoch 430, loss: 0.68144268, val acc: 0.40000001 (best 1.00000000), test acc: 0.40000001 (best 0.40000001)\n",
            "In epoch 435, loss: 0.69340408, val acc: 0.20000000 (best 1.00000000), test acc: 1.00000000 (best 0.40000001)\n",
            "In epoch 440, loss: 0.61609584, val acc: 0.40000001 (best 1.00000000), test acc: 0.40000001 (best 0.40000001)\n",
            "In epoch 445, loss: 0.70422983, val acc: 0.20000000 (best 1.00000000), test acc: 0.40000001 (best 0.40000001)\n",
            "In epoch 450, loss: 0.67852527, val acc: 0.20000000 (best 1.00000000), test acc: 0.80000001 (best 0.40000001)\n",
            "In epoch 455, loss: 0.70882493, val acc: 0.60000002 (best 1.00000000), test acc: 0.40000001 (best 0.40000001)\n",
            "In epoch 460, loss: 0.67557430, val acc: 0.40000001 (best 1.00000000), test acc: 0.60000002 (best 0.40000001)\n",
            "In epoch 465, loss: 0.65721273, val acc: 0.20000000 (best 1.00000000), test acc: 0.40000001 (best 0.40000001)\n",
            "In epoch 470, loss: 0.70314354, val acc: 0.60000002 (best 1.00000000), test acc: 0.60000002 (best 0.40000001)\n",
            "In epoch 475, loss: 0.70203847, val acc: 0.60000002 (best 1.00000000), test acc: 0.60000002 (best 0.40000001)\n",
            "In epoch 480, loss: 0.67547065, val acc: 0.20000000 (best 1.00000000), test acc: 0.80000001 (best 0.40000001)\n",
            "In epoch 485, loss: 0.71019781, val acc: 0.80000001 (best 1.00000000), test acc: 1.00000000 (best 0.40000001)\n",
            "In epoch 490, loss: 0.67011195, val acc: 0.60000002 (best 1.00000000), test acc: 0.40000001 (best 0.40000001)\n",
            "In epoch 495, loss: 0.71155876, val acc: 0.60000002 (best 1.00000000), test acc: 0.40000001 (best 0.40000001)\n"
          ],
          "name": "stdout"
        }
      ]
    },
    {
      "cell_type": "code",
      "metadata": {
        "colab": {
          "base_uri": "https://localhost:8080/",
          "height": 312
        },
        "id": "-PZIweh4vOQ2",
        "outputId": "98d62efe-478f-4004-9a8b-bbec7597ed71"
      },
      "source": [
        "plt.plot(graph_classification_losses, 'b^-')\n",
        "plt.xlabel('Epochs')\n",
        "plt.ylabel('Losses')\n",
        "plt.grid()\n",
        "plt.title('Loss for Graph Classification')"
      ],
      "execution_count": 41,
      "outputs": [
        {
          "output_type": "execute_result",
          "data": {
            "text/plain": [
              "Text(0.5, 1.0, 'Loss for Graph Classification')"
            ]
          },
          "metadata": {
            "tags": []
          },
          "execution_count": 41
        },
        {
          "output_type": "display_data",
          "data": {
            "image/png": "[encoded data removed]",
            "text/plain": [
              "<Figure size 432x288 with 1 Axes>"
            ]
          },
          "metadata": {
            "tags": [],
            "needs_background": "light"
          }
        }
      ]
    },
    {
      "cell_type": "code",
      "metadata": {
        "colab": {
          "base_uri": "https://localhost:8080/",
          "height": 312
        },
        "id": "rDTtiYplvtWI",
        "outputId": "6e762dd0-1e85-4b6d-88e3-7fc9912416cf"
      },
      "source": [
        "plt.plot(graph_classification_accuracy['train'], 'r-')\n",
        "plt.plot(graph_classification_accuracy['test'], 'b-')\n",
        "plt.xlabel('Epochs')\n",
        "plt.ylabel('Accuracy')\n",
        "plt.grid()\n",
        "plt.title('Accuracies for Graph Classification')"
      ],
      "execution_count": 43,
      "outputs": [
        {
          "output_type": "execute_result",
          "data": {
            "text/plain": [
              "Text(0.5, 1.0, 'Accuracies for Graph Classification')"
            ]
          },
          "metadata": {
            "tags": []
          },
          "execution_count": 43
        },
        {
          "output_type": "display_data",
          "data": {
            "image/png": "[encoded data removed]",
            "text/plain": [
              "<Figure size 432x288 with 1 Axes>"
            ]
          },
          "metadata": {
            "tags": [],
            "needs_background": "light"
          }
        }
      ]
    },
    {
      "cell_type": "markdown",
      "metadata": {
        "id": "4imIoJDn3FzB"
      },
      "source": [
        "### **Inferences**\n",
        "\n",
        "* So both architectures seem to work to some extent, with the Node Classification approach appearing to have an advantage, but the results are really not satisfactory. I attribute this to two causes:\n",
        "\n",
        "  * One major issue was training data: the model was trained on only a small subset of the dataset which was downloaded, which in turn was only a part of the complete dataset. I had to do this as my computer could not support such resource-intensive computation and even Google Colab was having issues with the available RAM being used up completely. \n",
        "\n",
        "  * There were very few features in the data. Ideally quark/gluon jet production is accompanied by various scattering angles and jet momenta and energies, but here we only had 4 features to work with which might have severly impeded the performance. \n",
        "\n",
        "  * Finally, I think it has something to do with my implementation too. Most of it was stitched up version of various resources as GNNs are something completely new to me. I believe that there are better ways to implement the architecture, but the time constraint on tasks did not allow me to explore these architectures in detail."
      ]
    }
  ]
}